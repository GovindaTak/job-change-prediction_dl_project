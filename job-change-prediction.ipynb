{
 "cells": [
  {
   "cell_type": "markdown",
   "id": "5bad8305-94e0-467b-8e9b-9a9645c5f2b1",
   "metadata": {},
   "source": [
    "# Predict if an industry experienced student enrolled in a course is interested in a job change"
   ]
  },
  {
   "cell_type": "markdown",
   "id": "80f0a3e6-b6d3-4480-a49f-556a87ca44a0",
   "metadata": {},
   "source": [
    "Zeta Analytics is a training institute that conducts training for analytics/ data science and wants to expand its business to manpower recruitment as well. They get a large number of signups for their training. Now, Zeta Analytics wants to connect these enrollees with their clients who are looking to hire employees working in the same domain. Before that, it is important to know which of these candidates are looking for new employment. They have student information related to demographics, education, experience, and features related to training as well.\n",
    "\n",
    "To understand the factors that lead a person to look for a job change, the agency wants you to design a model that uses the current credentials/demographics/experience to predict the probability of an enrollee looking for a new job ( 0 or 1)."
   ]
  },
  {
   "cell_type": "markdown",
   "id": "08be8c34-ec81-4bc9-a94e-1ef6ec94c5fb",
   "metadata": {},
   "source": [
    "# Step 1 :- load data file and import modules"
   ]
  },
  {
   "cell_type": "code",
   "execution_count": 177,
   "id": "7508f668-a375-479d-be56-85e0c224f628",
   "metadata": {},
   "outputs": [],
   "source": [
    "import numpy as np\n",
    "import pandas as pd\n",
    "import matplotlib.pyplot as plt\n",
    "import seaborn as sns"
   ]
  },
  {
   "cell_type": "code",
   "execution_count": 178,
   "id": "246f710c-1223-4c5e-985d-429d72555066",
   "metadata": {},
   "outputs": [],
   "source": [
    "data=pd.read_csv('../Notebooks/Zeta_Analytics Dataset.csv')"
   ]
  },
  {
   "cell_type": "code",
   "execution_count": 179,
   "id": "5db9ac0c-86eb-4207-b254-b180b35f3294",
   "metadata": {},
   "outputs": [
    {
     "data": {
      "text/html": [
       "<div>\n",
       "<style scoped>\n",
       "    .dataframe tbody tr th:only-of-type {\n",
       "        vertical-align: middle;\n",
       "    }\n",
       "\n",
       "    .dataframe tbody tr th {\n",
       "        vertical-align: top;\n",
       "    }\n",
       "\n",
       "    .dataframe thead th {\n",
       "        text-align: right;\n",
       "    }\n",
       "</style>\n",
       "<table border=\"1\" class=\"dataframe\">\n",
       "  <thead>\n",
       "    <tr style=\"text-align: right;\">\n",
       "      <th></th>\n",
       "      <th>enrollee_id</th>\n",
       "      <th>city</th>\n",
       "      <th>city_development_index</th>\n",
       "      <th>gender</th>\n",
       "      <th>relevent_experience</th>\n",
       "      <th>enrolled_university</th>\n",
       "      <th>education_level</th>\n",
       "      <th>major_discipline</th>\n",
       "      <th>experience</th>\n",
       "      <th>company_size</th>\n",
       "      <th>company_type</th>\n",
       "      <th>last_new_job</th>\n",
       "      <th>training_hours</th>\n",
       "      <th>target</th>\n",
       "    </tr>\n",
       "  </thead>\n",
       "  <tbody>\n",
       "    <tr>\n",
       "      <th>0</th>\n",
       "      <td>23798</td>\n",
       "      <td>city_149</td>\n",
       "      <td>0.689</td>\n",
       "      <td>Male</td>\n",
       "      <td>Has relevent experience</td>\n",
       "      <td>no_enrollment</td>\n",
       "      <td>Graduate</td>\n",
       "      <td>STEM</td>\n",
       "      <td>3</td>\n",
       "      <td>100-500</td>\n",
       "      <td>Pvt Ltd</td>\n",
       "      <td>1</td>\n",
       "      <td>106</td>\n",
       "      <td>0</td>\n",
       "    </tr>\n",
       "    <tr>\n",
       "      <th>1</th>\n",
       "      <td>29166</td>\n",
       "      <td>city_83</td>\n",
       "      <td>0.923</td>\n",
       "      <td>Male</td>\n",
       "      <td>Has relevent experience</td>\n",
       "      <td>no_enrollment</td>\n",
       "      <td>Graduate</td>\n",
       "      <td>STEM</td>\n",
       "      <td>14</td>\n",
       "      <td>&lt;10</td>\n",
       "      <td>Funded Startup</td>\n",
       "      <td>1</td>\n",
       "      <td>69</td>\n",
       "      <td>0</td>\n",
       "    </tr>\n",
       "    <tr>\n",
       "      <th>2</th>\n",
       "      <td>46</td>\n",
       "      <td>city_16</td>\n",
       "      <td>0.910</td>\n",
       "      <td>NaN</td>\n",
       "      <td>Has relevent experience</td>\n",
       "      <td>no_enrollment</td>\n",
       "      <td>Graduate</td>\n",
       "      <td>STEM</td>\n",
       "      <td>6</td>\n",
       "      <td>50-99</td>\n",
       "      <td>Public Sector</td>\n",
       "      <td>2</td>\n",
       "      <td>4</td>\n",
       "      <td>0</td>\n",
       "    </tr>\n",
       "    <tr>\n",
       "      <th>3</th>\n",
       "      <td>18527</td>\n",
       "      <td>city_64</td>\n",
       "      <td>0.666</td>\n",
       "      <td>Male</td>\n",
       "      <td>Has relevent experience</td>\n",
       "      <td>no_enrollment</td>\n",
       "      <td>Graduate</td>\n",
       "      <td>STEM</td>\n",
       "      <td>14</td>\n",
       "      <td>50-99</td>\n",
       "      <td>Pvt Ltd</td>\n",
       "      <td>1</td>\n",
       "      <td>26</td>\n",
       "      <td>0</td>\n",
       "    </tr>\n",
       "    <tr>\n",
       "      <th>4</th>\n",
       "      <td>21751</td>\n",
       "      <td>city_100</td>\n",
       "      <td>0.887</td>\n",
       "      <td>NaN</td>\n",
       "      <td>No relevent experience</td>\n",
       "      <td>no_enrollment</td>\n",
       "      <td>Masters</td>\n",
       "      <td>STEM</td>\n",
       "      <td>8</td>\n",
       "      <td>NaN</td>\n",
       "      <td>NaN</td>\n",
       "      <td>2</td>\n",
       "      <td>88</td>\n",
       "      <td>1</td>\n",
       "    </tr>\n",
       "  </tbody>\n",
       "</table>\n",
       "</div>"
      ],
      "text/plain": [
       "   enrollee_id      city  city_development_index gender  \\\n",
       "0        23798  city_149                   0.689   Male   \n",
       "1        29166   city_83                   0.923   Male   \n",
       "2           46   city_16                   0.910    NaN   \n",
       "3        18527   city_64                   0.666   Male   \n",
       "4        21751  city_100                   0.887    NaN   \n",
       "\n",
       "       relevent_experience enrolled_university education_level  \\\n",
       "0  Has relevent experience       no_enrollment        Graduate   \n",
       "1  Has relevent experience       no_enrollment        Graduate   \n",
       "2  Has relevent experience       no_enrollment        Graduate   \n",
       "3  Has relevent experience       no_enrollment        Graduate   \n",
       "4   No relevent experience       no_enrollment         Masters   \n",
       "\n",
       "  major_discipline experience company_size    company_type last_new_job  \\\n",
       "0             STEM          3      100-500         Pvt Ltd            1   \n",
       "1             STEM         14          <10  Funded Startup            1   \n",
       "2             STEM          6        50-99   Public Sector            2   \n",
       "3             STEM         14        50-99         Pvt Ltd            1   \n",
       "4             STEM          8          NaN             NaN            2   \n",
       "\n",
       "   training_hours  target  \n",
       "0             106       0  \n",
       "1              69       0  \n",
       "2               4       0  \n",
       "3              26       0  \n",
       "4              88       1  "
      ]
     },
     "execution_count": 179,
     "metadata": {},
     "output_type": "execute_result"
    }
   ],
   "source": [
    "data.head()"
   ]
  },
  {
   "cell_type": "code",
   "execution_count": 180,
   "id": "80f4e1be-39e4-47af-a9b9-9ec5b5227972",
   "metadata": {},
   "outputs": [
    {
     "name": "stdout",
     "output_type": "stream",
     "text": [
      "<class 'pandas.core.frame.DataFrame'>\n",
      "RangeIndex: 18359 entries, 0 to 18358\n",
      "Data columns (total 14 columns):\n",
      " #   Column                  Non-Null Count  Dtype  \n",
      "---  ------                  --------------  -----  \n",
      " 0   enrollee_id             18359 non-null  int64  \n",
      " 1   city                    18359 non-null  object \n",
      " 2   city_development_index  18359 non-null  float64\n",
      " 3   gender                  14261 non-null  object \n",
      " 4   relevent_experience     18359 non-null  object \n",
      " 5   enrolled_university     18017 non-null  object \n",
      " 6   education_level         17902 non-null  object \n",
      " 7   major_discipline        15521 non-null  object \n",
      " 8   experience              18300 non-null  object \n",
      " 9   company_size            13580 non-null  object \n",
      " 10  company_type            13320 non-null  object \n",
      " 11  last_new_job            17992 non-null  object \n",
      " 12  training_hours          18359 non-null  int64  \n",
      " 13  target                  18359 non-null  int64  \n",
      "dtypes: float64(1), int64(3), object(10)\n",
      "memory usage: 2.0+ MB\n"
     ]
    }
   ],
   "source": [
    "data.info()"
   ]
  },
  {
   "cell_type": "code",
   "execution_count": 181,
   "id": "24114fd5-4612-4dc3-81ce-724332250a90",
   "metadata": {},
   "outputs": [
    {
     "data": {
      "text/html": [
       "<div>\n",
       "<style scoped>\n",
       "    .dataframe tbody tr th:only-of-type {\n",
       "        vertical-align: middle;\n",
       "    }\n",
       "\n",
       "    .dataframe tbody tr th {\n",
       "        vertical-align: top;\n",
       "    }\n",
       "\n",
       "    .dataframe thead th {\n",
       "        text-align: right;\n",
       "    }\n",
       "</style>\n",
       "<table border=\"1\" class=\"dataframe\">\n",
       "  <thead>\n",
       "    <tr style=\"text-align: right;\">\n",
       "      <th></th>\n",
       "      <th>count</th>\n",
       "      <th>mean</th>\n",
       "      <th>std</th>\n",
       "      <th>min</th>\n",
       "      <th>25%</th>\n",
       "      <th>50%</th>\n",
       "      <th>75%</th>\n",
       "      <th>max</th>\n",
       "    </tr>\n",
       "  </thead>\n",
       "  <tbody>\n",
       "    <tr>\n",
       "      <th>enrollee_id</th>\n",
       "      <td>18359.0</td>\n",
       "      <td>16729.360096</td>\n",
       "      <td>9643.749725</td>\n",
       "      <td>1.000</td>\n",
       "      <td>8378.500</td>\n",
       "      <td>16706.00</td>\n",
       "      <td>25148.50</td>\n",
       "      <td>33380.000</td>\n",
       "    </tr>\n",
       "    <tr>\n",
       "      <th>city_development_index</th>\n",
       "      <td>18359.0</td>\n",
       "      <td>0.847140</td>\n",
       "      <td>0.110189</td>\n",
       "      <td>0.448</td>\n",
       "      <td>0.796</td>\n",
       "      <td>0.91</td>\n",
       "      <td>0.92</td>\n",
       "      <td>0.949</td>\n",
       "    </tr>\n",
       "    <tr>\n",
       "      <th>training_hours</th>\n",
       "      <td>18359.0</td>\n",
       "      <td>65.899014</td>\n",
       "      <td>60.885300</td>\n",
       "      <td>1.000</td>\n",
       "      <td>23.000</td>\n",
       "      <td>47.00</td>\n",
       "      <td>89.00</td>\n",
       "      <td>336.000</td>\n",
       "    </tr>\n",
       "    <tr>\n",
       "      <th>target</th>\n",
       "      <td>18359.0</td>\n",
       "      <td>0.132088</td>\n",
       "      <td>0.338595</td>\n",
       "      <td>0.000</td>\n",
       "      <td>0.000</td>\n",
       "      <td>0.00</td>\n",
       "      <td>0.00</td>\n",
       "      <td>1.000</td>\n",
       "    </tr>\n",
       "  </tbody>\n",
       "</table>\n",
       "</div>"
      ],
      "text/plain": [
       "                          count          mean          std    min       25%  \\\n",
       "enrollee_id             18359.0  16729.360096  9643.749725  1.000  8378.500   \n",
       "city_development_index  18359.0      0.847140     0.110189  0.448     0.796   \n",
       "training_hours          18359.0     65.899014    60.885300  1.000    23.000   \n",
       "target                  18359.0      0.132088     0.338595  0.000     0.000   \n",
       "\n",
       "                             50%       75%        max  \n",
       "enrollee_id             16706.00  25148.50  33380.000  \n",
       "city_development_index      0.91      0.92      0.949  \n",
       "training_hours             47.00     89.00    336.000  \n",
       "target                      0.00      0.00      1.000  "
      ]
     },
     "execution_count": 181,
     "metadata": {},
     "output_type": "execute_result"
    }
   ],
   "source": [
    "data.describe().transpose()"
   ]
  },
  {
   "cell_type": "code",
   "execution_count": 182,
   "id": "f8aa1e38-e631-4387-856e-70ef2820aaef",
   "metadata": {},
   "outputs": [
    {
     "data": {
      "text/plain": [
       "<seaborn.axisgrid.FacetGrid at 0x242673111b0>"
      ]
     },
     "execution_count": 182,
     "metadata": {},
     "output_type": "execute_result"
    },
    {
     "data": {
      "image/png": "[encoded data removed]",
      "text/plain": [
       "<Figure size 500x500 with 1 Axes>"
      ]
     },
     "metadata": {},
     "output_type": "display_data"
    }
   ],
   "source": [
    "sns.displot(data,x='target')"
   ]
  },
  {
   "cell_type": "markdown",
   "id": "ad29041e-289a-4078-ab04-b47e93252acc",
   "metadata": {},
   "source": [
    "we can see in above plot , our dataset is unbalanced !"
   ]
  },
  {
   "cell_type": "markdown",
   "id": "61f3e20f-9406-4729-a356-13b8371ee2f0",
   "metadata": {},
   "source": [
    "# Step 2 :- Data Preprocessing"
   ]
  },
  {
   "cell_type": "markdown",
   "id": "3578f826-0735-4df6-8a98-fa83a5cfb4f8",
   "metadata": {},
   "source": [
    "1) Let's fix null values 1st"
   ]
  },
  {
   "cell_type": "markdown",
   "id": "059756e1-1989-4549-97fe-2c3902c2e0d7",
   "metadata": {},
   "source": [
    "let's see details of column who have null values :- "
   ]
  },
  {
   "cell_type": "code",
   "execution_count": 187,
   "id": "66b5dd50-ac71-40fe-957f-e2c18c3a58c8",
   "metadata": {},
   "outputs": [
    {
     "data": {
      "text/plain": [
       "enrollee_id                  0\n",
       "city                         0\n",
       "city_development_index       0\n",
       "gender                    4098\n",
       "relevent_experience          0\n",
       "enrolled_university        342\n",
       "education_level            457\n",
       "major_discipline          2838\n",
       "experience                  59\n",
       "company_size              4779\n",
       "company_type              5039\n",
       "last_new_job               367\n",
       "training_hours               0\n",
       "target                       0\n",
       "dtype: int64"
      ]
     },
     "execution_count": 187,
     "metadata": {},
     "output_type": "execute_result"
    }
   ],
   "source": [
    "data.isnull().sum()"
   ]
  },
  {
   "cell_type": "markdown",
   "id": "1091e8ee-2d59-4809-b61b-0c0dece1ee60",
   "metadata": {},
   "source": [
    "let's fill the nan values of categorical column with 'NA' means not available !"
   ]
  },
  {
   "cell_type": "code",
   "execution_count": 189,
   "id": "d8e949cc-8572-4d6c-9d5c-e439035d8811",
   "metadata": {},
   "outputs": [
    {
     "data": {
      "text/plain": [
       "Index(['gender', 'enrolled_university', 'education_level', 'major_discipline',\n",
       "       'experience', 'company_size', 'company_type', 'last_new_job'],\n",
       "      dtype='object')"
      ]
     },
     "execution_count": 189,
     "metadata": {},
     "output_type": "execute_result"
    }
   ],
   "source": [
    "column_list_nan=data.columns[data.isnull().any()]\n",
    "column_list_nan"
   ]
  },
  {
   "cell_type": "markdown",
   "id": "b09dbcbc-a771-49a7-9fa9-7ddca4154578",
   "metadata": {},
   "source": [
    "above all columns are categorical type except 2 :- experience and last_new_job"
   ]
  },
  {
   "cell_type": "code",
   "execution_count": 191,
   "id": "6d25e964-14e2-4297-a749-c205d3277a0a",
   "metadata": {},
   "outputs": [],
   "source": [
    "cat_column_list_nan=['gender', 'enrolled_university', 'education_level', 'major_discipline', 'company_size', 'company_type']"
   ]
  },
  {
   "cell_type": "code",
   "execution_count": 192,
   "id": "137f30c8-8741-432f-8637-cacbe70f289b",
   "metadata": {},
   "outputs": [],
   "source": [
    "data[cat_column_list_nan]=data[cat_column_list_nan].fillna('NA')"
   ]
  },
  {
   "cell_type": "code",
   "execution_count": 193,
   "id": "2a6e9846-4b4c-4b8f-a26c-a112af48c11e",
   "metadata": {},
   "outputs": [
    {
     "data": {
      "text/plain": [
       "enrollee_id                 0\n",
       "city                        0\n",
       "city_development_index      0\n",
       "gender                      0\n",
       "relevent_experience         0\n",
       "enrolled_university         0\n",
       "education_level             0\n",
       "major_discipline            0\n",
       "experience                 59\n",
       "company_size                0\n",
       "company_type                0\n",
       "last_new_job              367\n",
       "training_hours              0\n",
       "target                      0\n",
       "dtype: int64"
      ]
     },
     "execution_count": 193,
     "metadata": {},
     "output_type": "execute_result"
    }
   ],
   "source": [
    "data.isnull().sum()"
   ]
  },
  {
   "cell_type": "markdown",
   "id": "3f5b3112-4442-4a06-8254-939476b148fc",
   "metadata": {},
   "source": [
    "Let's start working on another 2 columns !"
   ]
  },
  {
   "cell_type": "code",
   "execution_count": 195,
   "id": "8a42d65c-d950-4034-b9ba-992a57e5276e",
   "metadata": {},
   "outputs": [
    {
     "data": {
      "text/plain": [
       "array(['3', '14', '6', '8', '>20', '4', '9', '15', '10', '1', '5', '16',\n",
       "       '11', '12', '7', '2', '13', '<1', '19', '18', '17', nan, '20'],\n",
       "      dtype=object)"
      ]
     },
     "execution_count": 195,
     "metadata": {},
     "output_type": "execute_result"
    }
   ],
   "source": [
    "data['experience'].unique()"
   ]
  },
  {
   "cell_type": "code",
   "execution_count": 196,
   "id": "6690c0b7-5a64-40fc-99d6-9fe686b2d024",
   "metadata": {},
   "outputs": [
    {
     "data": {
      "text/plain": [
       "array(['1', '2', '3', '>4', 'never', '4', nan], dtype=object)"
      ]
     },
     "execution_count": 196,
     "metadata": {},
     "output_type": "execute_result"
    }
   ],
   "source": [
    "data['last_new_job'].unique()"
   ]
  },
  {
   "cell_type": "markdown",
   "id": "d127c697-3f37-4830-88f7-31707af00979",
   "metadata": {},
   "source": [
    "let's replace the text data from above columns so then we will convert these object columns in numerical type."
   ]
  },
  {
   "cell_type": "code",
   "execution_count": 198,
   "id": "22bdc434-a554-4697-b340-435eb0ff0bed",
   "metadata": {},
   "outputs": [],
   "source": [
    "data['experience']=data['experience'].replace('>','',regex=True).replace('<','',regex=True)"
   ]
  },
  {
   "cell_type": "code",
   "execution_count": 199,
   "id": "14ea7bdd-7408-474e-ba6d-90ae92c946ca",
   "metadata": {},
   "outputs": [],
   "source": [
    "data['last_new_job']=data['last_new_job'].replace('>','',regex=True)"
   ]
  },
  {
   "cell_type": "code",
   "execution_count": 200,
   "id": "7e8231b3-be40-43ff-9bf5-e80513c8daaa",
   "metadata": {},
   "outputs": [],
   "source": [
    "data['last_new_job']=data['last_new_job'].replace('never','0')"
   ]
  },
  {
   "cell_type": "code",
   "execution_count": 201,
   "id": "177049e0-e763-4732-8edb-f83b39081478",
   "metadata": {},
   "outputs": [
    {
     "data": {
      "text/plain": [
       "array(['3', '14', '6', '8', '20', '4', '9', '15', '10', '1', '5', '16',\n",
       "       '11', '12', '7', '2', '13', '19', '18', '17', nan], dtype=object)"
      ]
     },
     "execution_count": 201,
     "metadata": {},
     "output_type": "execute_result"
    }
   ],
   "source": [
    "data['experience'].unique()"
   ]
  },
  {
   "cell_type": "code",
   "execution_count": 202,
   "id": "ccc83906-5f61-4f11-900c-3b9fe238723c",
   "metadata": {},
   "outputs": [
    {
     "data": {
      "text/plain": [
       "array(['1', '2', '3', '4', '0', nan], dtype=object)"
      ]
     },
     "execution_count": 202,
     "metadata": {},
     "output_type": "execute_result"
    }
   ],
   "source": [
    "data['last_new_job'].unique()"
   ]
  },
  {
   "cell_type": "code",
   "execution_count": 203,
   "id": "bc4104f2-eb13-4241-9d4b-2b359b617f12",
   "metadata": {},
   "outputs": [
    {
     "data": {
      "text/plain": [
       "enrollee_id                 0\n",
       "city                        0\n",
       "city_development_index      0\n",
       "gender                      0\n",
       "relevent_experience         0\n",
       "enrolled_university         0\n",
       "education_level             0\n",
       "major_discipline            0\n",
       "experience                 59\n",
       "company_size                0\n",
       "company_type                0\n",
       "last_new_job              367\n",
       "training_hours              0\n",
       "target                      0\n",
       "dtype: int64"
      ]
     },
     "execution_count": 203,
     "metadata": {},
     "output_type": "execute_result"
    }
   ],
   "source": [
    "data.isnull().sum()"
   ]
  },
  {
   "cell_type": "markdown",
   "id": "91239aa8-c3c7-4631-b628-f201a0deb7e5",
   "metadata": {},
   "source": [
    "Let's convert textual column in numerical column mainly experience and last_new_job."
   ]
  },
  {
   "cell_type": "code",
   "execution_count": 205,
   "id": "afb11cdd-6fae-4c48-81e8-91e0fff858bc",
   "metadata": {},
   "outputs": [],
   "source": [
    "data['experience']=pd.to_numeric(data['experience'])"
   ]
  },
  {
   "cell_type": "code",
   "execution_count": 206,
   "id": "85a8d1cc-ebb5-4542-a70c-5be2ecdc521d",
   "metadata": {},
   "outputs": [
    {
     "data": {
      "text/plain": [
       "0         3.0\n",
       "1        14.0\n",
       "2         6.0\n",
       "3        14.0\n",
       "4         8.0\n",
       "         ... \n",
       "18354     5.0\n",
       "18355    15.0\n",
       "18356    11.0\n",
       "18357    20.0\n",
       "18358    20.0\n",
       "Name: experience, Length: 18359, dtype: float64"
      ]
     },
     "execution_count": 206,
     "metadata": {},
     "output_type": "execute_result"
    }
   ],
   "source": [
    "data['experience']"
   ]
  },
  {
   "cell_type": "code",
   "execution_count": 207,
   "id": "ded0a0e3-2254-4c4a-930a-1dbeff22e9bc",
   "metadata": {},
   "outputs": [
    {
     "data": {
      "text/plain": [
       "0        1.0\n",
       "1        1.0\n",
       "2        2.0\n",
       "3        1.0\n",
       "4        2.0\n",
       "        ... \n",
       "18354    1.0\n",
       "18355    1.0\n",
       "18356    3.0\n",
       "18357    3.0\n",
       "18358    2.0\n",
       "Name: last_new_job, Length: 18359, dtype: float64"
      ]
     },
     "execution_count": 207,
     "metadata": {},
     "output_type": "execute_result"
    }
   ],
   "source": [
    "data['last_new_job']=pd.to_numeric(data['last_new_job'])\n",
    "data['last_new_job']"
   ]
  },
  {
   "cell_type": "markdown",
   "id": "55096446-928b-46a7-9992-008fb883ef4e",
   "metadata": {},
   "source": [
    "so we converted these columns in numerical type, only remainder is to fill nan values."
   ]
  },
  {
   "cell_type": "code",
   "execution_count": 209,
   "id": "5a2f1776-cfd6-4526-bd06-05d4c32ca09e",
   "metadata": {},
   "outputs": [
    {
     "name": "stdout",
     "output_type": "stream",
     "text": [
      "<class 'pandas.core.frame.DataFrame'>\n",
      "RangeIndex: 18359 entries, 0 to 18358\n",
      "Data columns (total 14 columns):\n",
      " #   Column                  Non-Null Count  Dtype  \n",
      "---  ------                  --------------  -----  \n",
      " 0   enrollee_id             18359 non-null  int64  \n",
      " 1   city                    18359 non-null  object \n",
      " 2   city_development_index  18359 non-null  float64\n",
      " 3   gender                  18359 non-null  object \n",
      " 4   relevent_experience     18359 non-null  object \n",
      " 5   enrolled_university     18359 non-null  object \n",
      " 6   education_level         18359 non-null  object \n",
      " 7   major_discipline        18359 non-null  object \n",
      " 8   experience              18300 non-null  float64\n",
      " 9   company_size            18359 non-null  object \n",
      " 10  company_type            18359 non-null  object \n",
      " 11  last_new_job            17992 non-null  float64\n",
      " 12  training_hours          18359 non-null  int64  \n",
      " 13  target                  18359 non-null  int64  \n",
      "dtypes: float64(3), int64(3), object(8)\n",
      "memory usage: 2.0+ MB\n"
     ]
    }
   ],
   "source": [
    "data.info()"
   ]
  },
  {
   "cell_type": "markdown",
   "id": "fd704a0c-36bc-44d2-a08f-bb25cb0f1a97",
   "metadata": {},
   "source": [
    "# removing unnessasary features from our dataset."
   ]
  },
  {
   "cell_type": "markdown",
   "id": "189966d2-ec8e-4a76-87ea-9699eb3e9764",
   "metadata": {},
   "source": [
    "In our dataset , enrollee_id and city will not play any role to decide our target so we should remove from our data set."
   ]
  },
  {
   "cell_type": "code",
   "execution_count": 212,
   "id": "38b7c76d-d53f-4fa1-b1e5-b856d2592229",
   "metadata": {},
   "outputs": [
    {
     "data": {
      "text/plain": [
       "array(['city_149', 'city_83', 'city_16', 'city_64', 'city_100', 'city_21',\n",
       "       'city_114', 'city_103', 'city_97', 'city_160', 'city_65',\n",
       "       'city_90', 'city_75', 'city_136', 'city_159', 'city_67', 'city_28',\n",
       "       'city_10', 'city_73', 'city_76', 'city_104', 'city_27', 'city_30',\n",
       "       'city_61', 'city_99', 'city_41', 'city_142', 'city_9', 'city_116',\n",
       "       'city_128', 'city_74', 'city_69', 'city_1', 'city_176', 'city_40',\n",
       "       'city_123', 'city_152', 'city_165', 'city_89', 'city_36',\n",
       "       'city_44', 'city_46', 'city_45', 'city_134', 'city_93', 'city_180',\n",
       "       'city_162', 'city_84', 'city_138', 'city_173', 'city_19',\n",
       "       'city_71', 'city_158', 'city_23', 'city_102', 'city_105',\n",
       "       'city_91', 'city_11', 'city_13', 'city_57', 'city_20', 'city_14',\n",
       "       'city_37', 'city_115', 'city_50', 'city_167', 'city_12',\n",
       "       'city_143', 'city_126', 'city_77', 'city_101', 'city_150',\n",
       "       'city_179', 'city_107', 'city_175', 'city_146', 'city_98',\n",
       "       'city_166', 'city_118', 'city_129', 'city_127', 'city_24',\n",
       "       'city_81', 'city_26', 'city_139', 'city_94', 'city_70', 'city_145',\n",
       "       'city_157', 'city_111', 'city_78', 'city_80', 'city_33', 'city_7',\n",
       "       'city_72', 'city_43', 'city_144', 'city_39', 'city_59', 'city_48',\n",
       "       'city_131', 'city_121', 'city_141', 'city_42', 'city_117',\n",
       "       'city_55', 'city_54', 'city_8', 'city_62', 'city_53', 'city_106',\n",
       "       'city_155', 'city_133', 'city_171', 'city_2', 'city_120',\n",
       "       'city_18', 'city_79', 'city_31', 'city_109', 'city_25', 'city_82',\n",
       "       'city_140'], dtype=object)"
      ]
     },
     "execution_count": 212,
     "metadata": {},
     "output_type": "execute_result"
    }
   ],
   "source": [
    "data['city'].unique() "
   ]
  },
  {
   "cell_type": "markdown",
   "id": "60068e83-b9eb-4d89-8a3f-3891f6375bc1",
   "metadata": {},
   "source": [
    "we can see how many unique values are there , so good to drop it."
   ]
  },
  {
   "cell_type": "code",
   "execution_count": 214,
   "id": "16794966-658a-4043-af14-258ed4f14210",
   "metadata": {},
   "outputs": [],
   "source": [
    "data.drop(['city','enrollee_id'],axis=1,inplace=True)"
   ]
  },
  {
   "cell_type": "code",
   "execution_count": 215,
   "id": "d5b93f2f-cf63-4b67-9dbf-5143cf281756",
   "metadata": {},
   "outputs": [
    {
     "name": "stdout",
     "output_type": "stream",
     "text": [
      "<class 'pandas.core.frame.DataFrame'>\n",
      "RangeIndex: 18359 entries, 0 to 18358\n",
      "Data columns (total 12 columns):\n",
      " #   Column                  Non-Null Count  Dtype  \n",
      "---  ------                  --------------  -----  \n",
      " 0   city_development_index  18359 non-null  float64\n",
      " 1   gender                  18359 non-null  object \n",
      " 2   relevent_experience     18359 non-null  object \n",
      " 3   enrolled_university     18359 non-null  object \n",
      " 4   education_level         18359 non-null  object \n",
      " 5   major_discipline        18359 non-null  object \n",
      " 6   experience              18300 non-null  float64\n",
      " 7   company_size            18359 non-null  object \n",
      " 8   company_type            18359 non-null  object \n",
      " 9   last_new_job            17992 non-null  float64\n",
      " 10  training_hours          18359 non-null  int64  \n",
      " 11  target                  18359 non-null  int64  \n",
      "dtypes: float64(3), int64(2), object(7)\n",
      "memory usage: 1.7+ MB\n"
     ]
    }
   ],
   "source": [
    "data.info()"
   ]
  },
  {
   "cell_type": "markdown",
   "id": "dc52d092-573f-450a-b15d-4881535565f7",
   "metadata": {},
   "source": [
    "# Let's convert our Object column into binary coded "
   ]
  },
  {
   "cell_type": "code",
   "execution_count": 217,
   "id": "2340c2cf-7e99-42f9-9697-13490861e716",
   "metadata": {},
   "outputs": [
    {
     "data": {
      "text/plain": [
       "Index(['gender', 'relevent_experience', 'enrolled_university',\n",
       "       'education_level', 'major_discipline', 'company_size', 'company_type'],\n",
       "      dtype='object')"
      ]
     },
     "execution_count": 217,
     "metadata": {},
     "output_type": "execute_result"
    }
   ],
   "source": [
    "obj_col=data.select_dtypes(include='O').columns\n",
    "obj_col"
   ]
  },
  {
   "cell_type": "code",
   "execution_count": 218,
   "id": "dc5cf345-abc7-4b21-a4a1-f7bf0a3d572b",
   "metadata": {},
   "outputs": [
    {
     "name": "stdout",
     "output_type": "stream",
     "text": [
      "gender :- ['Male' 'NA' 'Female' 'Other']\n",
      "4\n",
      "relevent_experience :- ['Has relevent experience' 'No relevent experience']\n",
      "2\n",
      "enrolled_university :- ['no_enrollment' 'Full time course' 'Part time course' 'NA']\n",
      "4\n",
      "education_level :- ['Graduate' 'Masters' 'High School' 'Phd' 'NA' 'Primary School']\n",
      "6\n",
      "major_discipline :- ['STEM' 'Other' 'No Major' 'NA' 'Business Degree' 'Arts' 'Humanities']\n",
      "7\n",
      "company_size :- ['100-500' '<10' '50-99' 'NA' '5000-9999' '10000+' '1000-4999' '500-999'\n",
      " '10/49']\n",
      "9\n",
      "company_type :- ['Pvt Ltd' 'Funded Startup' 'Public Sector' 'NA' 'Early Stage Startup'\n",
      " 'NGO' 'Other']\n",
      "7\n"
     ]
    }
   ],
   "source": [
    "for col in obj_col:\n",
    "    print(f'{col} :- {data[col].unique()}')\n",
    "    print(data[col].nunique())"
   ]
  },
  {
   "cell_type": "markdown",
   "id": "2454a73e-fc40-40ca-a163-a806985c193c",
   "metadata": {},
   "source": [
    "# Note\n",
    "Ordinal Encoding is suitable for features with natural order (like education level or company size).\n",
    "One-Hot Encoding is suitable for features with no inherent order (like gender or major discipline). OR we can use pandas module method getdummies to achive our goal."
   ]
  },
  {
   "cell_type": "code",
   "execution_count": 220,
   "id": "5f6f19f4-fe5a-44e9-b08b-764522aad562",
   "metadata": {},
   "outputs": [],
   "source": [
    "from sklearn.preprocessing import OrdinalEncoder"
   ]
  },
  {
   "cell_type": "code",
   "execution_count": 221,
   "id": "75ef2435-73fe-49f7-8b54-5e42447c14b0",
   "metadata": {},
   "outputs": [],
   "source": [
    "encoder=OrdinalEncoder(categories=[['Graduate', 'Masters' ,'High School' ,'Phd' ,'NA', 'Primary School']])\n",
    "#categories in [[]] reflect that input will be 2-D array or dataframe"
   ]
  },
  {
   "cell_type": "code",
   "execution_count": 222,
   "id": "e279df91-dbae-49ce-a671-e9895b3a34b3",
   "metadata": {},
   "outputs": [],
   "source": [
    "data['education_level']=encoder.fit_transform(data[['education_level']])"
   ]
  },
  {
   "cell_type": "code",
   "execution_count": 223,
   "id": "8e4c09a5-ba6d-4a5f-833c-2a6af29e580b",
   "metadata": {},
   "outputs": [],
   "source": [
    "encoder=OrdinalEncoder(categories=[['100-500', '<10' ,'50-99', 'NA', '5000-9999', '10000+' ,'1000-4999', '500-999','10/49']])\n",
    "data['company_size']=encoder.fit_transform(data[['company_size']])"
   ]
  },
  {
   "cell_type": "code",
   "execution_count": 224,
   "id": "64c1a0f3-6c19-486e-acae-e4f3b537f47d",
   "metadata": {},
   "outputs": [
    {
     "name": "stdout",
     "output_type": "stream",
     "text": [
      "<class 'pandas.core.frame.DataFrame'>\n",
      "RangeIndex: 18359 entries, 0 to 18358\n",
      "Data columns (total 12 columns):\n",
      " #   Column                  Non-Null Count  Dtype  \n",
      "---  ------                  --------------  -----  \n",
      " 0   city_development_index  18359 non-null  float64\n",
      " 1   gender                  18359 non-null  object \n",
      " 2   relevent_experience     18359 non-null  object \n",
      " 3   enrolled_university     18359 non-null  object \n",
      " 4   education_level         18359 non-null  float64\n",
      " 5   major_discipline        18359 non-null  object \n",
      " 6   experience              18300 non-null  float64\n",
      " 7   company_size            18359 non-null  float64\n",
      " 8   company_type            18359 non-null  object \n",
      " 9   last_new_job            17992 non-null  float64\n",
      " 10  training_hours          18359 non-null  int64  \n",
      " 11  target                  18359 non-null  int64  \n",
      "dtypes: float64(5), int64(2), object(5)\n",
      "memory usage: 1.7+ MB\n"
     ]
    }
   ],
   "source": [
    "data.info()"
   ]
  },
  {
   "cell_type": "markdown",
   "id": "d8e3f0da-e1f3-4d2e-b1e6-88f8c89ab209",
   "metadata": {},
   "source": [
    "Now time to convert other object columns into coded form.we will use pandas method."
   ]
  },
  {
   "cell_type": "code",
   "execution_count": 226,
   "id": "2332b3bb-caba-441c-a897-e0034aa0ea79",
   "metadata": {},
   "outputs": [
    {
     "data": {
      "text/plain": [
       "Index(['gender', 'relevent_experience', 'enrolled_university',\n",
       "       'major_discipline', 'company_type'],\n",
       "      dtype='object')"
      ]
     },
     "execution_count": 226,
     "metadata": {},
     "output_type": "execute_result"
    }
   ],
   "source": [
    "obj_col=data.select_dtypes(include='O').columns\n",
    "obj_col"
   ]
  },
  {
   "cell_type": "code",
   "execution_count": 227,
   "id": "aeb5b86e-dae3-40d5-b8f4-805da799d72b",
   "metadata": {},
   "outputs": [],
   "source": [
    "for col in obj_col:\n",
    "   data=pd.concat([data,pd.get_dummies(data[col],drop_first=True)],axis=1)"
   ]
  },
  {
   "cell_type": "code",
   "execution_count": 268,
   "id": "4ea4e72a-511a-487e-a0c1-bf5024da3882",
   "metadata": {},
   "outputs": [],
   "source": [
    "data.drop(obj_col,axis=1,inplace=True)"
   ]
  },
  {
   "cell_type": "code",
   "execution_count": 270,
   "id": "73ac9a3d-a844-4c67-9bb8-a0ad36ff9ede",
   "metadata": {},
   "outputs": [
    {
     "data": {
      "text/html": [
       "<div>\n",
       "<style scoped>\n",
       "    .dataframe tbody tr th:only-of-type {\n",
       "        vertical-align: middle;\n",
       "    }\n",
       "\n",
       "    .dataframe tbody tr th {\n",
       "        vertical-align: top;\n",
       "    }\n",
       "\n",
       "    .dataframe thead th {\n",
       "        text-align: right;\n",
       "    }\n",
       "</style>\n",
       "<table border=\"1\" class=\"dataframe\">\n",
       "  <thead>\n",
       "    <tr style=\"text-align: right;\">\n",
       "      <th></th>\n",
       "      <th>city_development_index</th>\n",
       "      <th>education_level</th>\n",
       "      <th>experience</th>\n",
       "      <th>company_size</th>\n",
       "      <th>last_new_job</th>\n",
       "      <th>training_hours</th>\n",
       "      <th>target</th>\n",
       "      <th>Male</th>\n",
       "      <th>NA</th>\n",
       "      <th>Other</th>\n",
       "      <th>...</th>\n",
       "      <th>NA</th>\n",
       "      <th>No Major</th>\n",
       "      <th>Other</th>\n",
       "      <th>STEM</th>\n",
       "      <th>Funded Startup</th>\n",
       "      <th>NA</th>\n",
       "      <th>NGO</th>\n",
       "      <th>Other</th>\n",
       "      <th>Public Sector</th>\n",
       "      <th>Pvt Ltd</th>\n",
       "    </tr>\n",
       "  </thead>\n",
       "  <tbody>\n",
       "    <tr>\n",
       "      <th>0</th>\n",
       "      <td>0.689</td>\n",
       "      <td>0.0</td>\n",
       "      <td>3.0</td>\n",
       "      <td>0.0</td>\n",
       "      <td>1.0</td>\n",
       "      <td>106</td>\n",
       "      <td>0</td>\n",
       "      <td>True</td>\n",
       "      <td>False</td>\n",
       "      <td>False</td>\n",
       "      <td>...</td>\n",
       "      <td>False</td>\n",
       "      <td>False</td>\n",
       "      <td>False</td>\n",
       "      <td>True</td>\n",
       "      <td>False</td>\n",
       "      <td>False</td>\n",
       "      <td>False</td>\n",
       "      <td>False</td>\n",
       "      <td>False</td>\n",
       "      <td>True</td>\n",
       "    </tr>\n",
       "    <tr>\n",
       "      <th>1</th>\n",
       "      <td>0.923</td>\n",
       "      <td>0.0</td>\n",
       "      <td>14.0</td>\n",
       "      <td>1.0</td>\n",
       "      <td>1.0</td>\n",
       "      <td>69</td>\n",
       "      <td>0</td>\n",
       "      <td>True</td>\n",
       "      <td>False</td>\n",
       "      <td>False</td>\n",
       "      <td>...</td>\n",
       "      <td>False</td>\n",
       "      <td>False</td>\n",
       "      <td>False</td>\n",
       "      <td>True</td>\n",
       "      <td>True</td>\n",
       "      <td>False</td>\n",
       "      <td>False</td>\n",
       "      <td>False</td>\n",
       "      <td>False</td>\n",
       "      <td>False</td>\n",
       "    </tr>\n",
       "    <tr>\n",
       "      <th>2</th>\n",
       "      <td>0.910</td>\n",
       "      <td>0.0</td>\n",
       "      <td>6.0</td>\n",
       "      <td>2.0</td>\n",
       "      <td>2.0</td>\n",
       "      <td>4</td>\n",
       "      <td>0</td>\n",
       "      <td>False</td>\n",
       "      <td>True</td>\n",
       "      <td>False</td>\n",
       "      <td>...</td>\n",
       "      <td>False</td>\n",
       "      <td>False</td>\n",
       "      <td>False</td>\n",
       "      <td>True</td>\n",
       "      <td>False</td>\n",
       "      <td>False</td>\n",
       "      <td>False</td>\n",
       "      <td>False</td>\n",
       "      <td>True</td>\n",
       "      <td>False</td>\n",
       "    </tr>\n",
       "    <tr>\n",
       "      <th>3</th>\n",
       "      <td>0.666</td>\n",
       "      <td>0.0</td>\n",
       "      <td>14.0</td>\n",
       "      <td>2.0</td>\n",
       "      <td>1.0</td>\n",
       "      <td>26</td>\n",
       "      <td>0</td>\n",
       "      <td>True</td>\n",
       "      <td>False</td>\n",
       "      <td>False</td>\n",
       "      <td>...</td>\n",
       "      <td>False</td>\n",
       "      <td>False</td>\n",
       "      <td>False</td>\n",
       "      <td>True</td>\n",
       "      <td>False</td>\n",
       "      <td>False</td>\n",
       "      <td>False</td>\n",
       "      <td>False</td>\n",
       "      <td>False</td>\n",
       "      <td>True</td>\n",
       "    </tr>\n",
       "    <tr>\n",
       "      <th>4</th>\n",
       "      <td>0.887</td>\n",
       "      <td>1.0</td>\n",
       "      <td>8.0</td>\n",
       "      <td>3.0</td>\n",
       "      <td>2.0</td>\n",
       "      <td>88</td>\n",
       "      <td>1</td>\n",
       "      <td>False</td>\n",
       "      <td>True</td>\n",
       "      <td>False</td>\n",
       "      <td>...</td>\n",
       "      <td>False</td>\n",
       "      <td>False</td>\n",
       "      <td>False</td>\n",
       "      <td>True</td>\n",
       "      <td>False</td>\n",
       "      <td>True</td>\n",
       "      <td>False</td>\n",
       "      <td>False</td>\n",
       "      <td>False</td>\n",
       "      <td>False</td>\n",
       "    </tr>\n",
       "  </tbody>\n",
       "</table>\n",
       "<p>5 rows × 26 columns</p>\n",
       "</div>"
      ],
      "text/plain": [
       "   city_development_index  education_level  experience  company_size  \\\n",
       "0                   0.689              0.0         3.0           0.0   \n",
       "1                   0.923              0.0        14.0           1.0   \n",
       "2                   0.910              0.0         6.0           2.0   \n",
       "3                   0.666              0.0        14.0           2.0   \n",
       "4                   0.887              1.0         8.0           3.0   \n",
       "\n",
       "   last_new_job  training_hours  target   Male     NA  Other  ...     NA  \\\n",
       "0           1.0             106       0   True  False  False  ...  False   \n",
       "1           1.0              69       0   True  False  False  ...  False   \n",
       "2           2.0               4       0  False   True  False  ...  False   \n",
       "3           1.0              26       0   True  False  False  ...  False   \n",
       "4           2.0              88       1  False   True  False  ...  False   \n",
       "\n",
       "   No Major  Other  STEM  Funded Startup     NA    NGO  Other  Public Sector  \\\n",
       "0     False  False  True           False  False  False  False          False   \n",
       "1     False  False  True            True  False  False  False          False   \n",
       "2     False  False  True           False  False  False  False           True   \n",
       "3     False  False  True           False  False  False  False          False   \n",
       "4     False  False  True           False   True  False  False          False   \n",
       "\n",
       "   Pvt Ltd  \n",
       "0     True  \n",
       "1    False  \n",
       "2    False  \n",
       "3     True  \n",
       "4    False  \n",
       "\n",
       "[5 rows x 26 columns]"
      ]
     },
     "execution_count": 270,
     "metadata": {},
     "output_type": "execute_result"
    }
   ],
   "source": [
    "data.head()"
   ]
  },
  {
   "cell_type": "markdown",
   "id": "8a36e91d-c9ef-4057-bc70-d4da6dc4ef44",
   "metadata": {},
   "source": [
    "Now only nan value remaining to handle."
   ]
  },
  {
   "cell_type": "markdown",
   "id": "a0a36a8b-8c8c-4b1b-b546-c08c3ae1e31a",
   "metadata": {},
   "source": [
    "# Step 3 :- Preparing training and testing dataset and normalization"
   ]
  },
  {
   "cell_type": "code",
   "execution_count": 293,
   "id": "6e3500b0-d461-43a8-a8ba-f8177780792f",
   "metadata": {},
   "outputs": [],
   "source": [
    "from sklearn.model_selection import train_test_split\n",
    "import torch\n",
    "from sklearn.preprocessing import MinMaxScaler"
   ]
  },
  {
   "cell_type": "code",
   "execution_count": 276,
   "id": "fae0c6ca-f45d-42df-b847-ff80ebec652b",
   "metadata": {},
   "outputs": [],
   "source": [
    "x=data.drop('target',axis=1)\n",
    "y=data['target']"
   ]
  },
  {
   "cell_type": "code",
   "execution_count": 278,
   "id": "a358e3bb-6daa-4ab7-9203-0d7d77aa55f6",
   "metadata": {},
   "outputs": [],
   "source": [
    "X_train, X_test, y_train, y_test = train_test_split(x, y, test_size=0.2, random_state=42)"
   ]
  },
  {
   "cell_type": "markdown",
   "id": "c95b7e07-a350-4398-8225-e3b904a251bf",
   "metadata": {},
   "source": [
    "# Let's fill the nan value of last_new_job and experience column\n",
    "filled by median value of train data set to avoid data leakage!"
   ]
  },
  {
   "cell_type": "code",
   "execution_count": 281,
   "id": "8322a0b1-945b-4014-883a-ffea658b753e",
   "metadata": {},
   "outputs": [
    {
     "data": {
      "text/plain": [
       "Index(['experience', 'last_new_job'], dtype='object')"
      ]
     },
     "execution_count": 281,
     "metadata": {},
     "output_type": "execute_result"
    }
   ],
   "source": [
    "nan_col=data.columns[data.isnull().any()]\n",
    "nan_col"
   ]
  },
  {
   "cell_type": "code",
   "execution_count": 287,
   "id": "aa3502d7-8481-4d3d-822d-3a6fd96f8755",
   "metadata": {},
   "outputs": [],
   "source": [
    "for col in nan_col:\n",
    "    median=X_train[col].median()\n",
    "    X_train[col]=X_train[col].fillna(median)\n",
    "    X_test[col]=X_test[col].fillna(median)"
   ]
  },
  {
   "cell_type": "code",
   "execution_count": 289,
   "id": "e42d71de-5797-4e4a-86cf-81b23122679b",
   "metadata": {},
   "outputs": [
    {
     "data": {
      "text/plain": [
       "city_development_index    0\n",
       "education_level           0\n",
       "experience                0\n",
       "company_size              0\n",
       "last_new_job              0\n",
       "training_hours            0\n",
       "Male                      0\n",
       "NA                        0\n",
       "Other                     0\n",
       "No relevent experience    0\n",
       "NA                        0\n",
       "Part time course          0\n",
       "no_enrollment             0\n",
       "Business Degree           0\n",
       "Humanities                0\n",
       "NA                        0\n",
       "No Major                  0\n",
       "Other                     0\n",
       "STEM                      0\n",
       "Funded Startup            0\n",
       "NA                        0\n",
       "NGO                       0\n",
       "Other                     0\n",
       "Public Sector             0\n",
       "Pvt Ltd                   0\n",
       "dtype: int64"
      ]
     },
     "execution_count": 289,
     "metadata": {},
     "output_type": "execute_result"
    }
   ],
   "source": [
    "X_train.isnull().sum()"
   ]
  },
  {
   "cell_type": "code",
   "execution_count": 311,
   "id": "45a8076d-5a4d-4768-85e9-cc717f73f3a0",
   "metadata": {},
   "outputs": [
    {
     "name": "stdout",
     "output_type": "stream",
     "text": [
      "<class 'numpy.ndarray'>\n",
      "3672\n"
     ]
    }
   ],
   "source": [
    "scaler=MinMaxScaler()\n",
    "X_train=scaler.fit_transform(X_train) #it normalize and also convert in \n",
    "X_test=scaler.transform(X_test)\n",
    "print(type(X_train))\n",
    "y_train=y_train.values\n",
    "y_test=y_test.values\n",
    "y_test.shape # we need to reshape our numpy array to (3672,1)\n",
    "y_test.reshape(-1,1)"
   ]
  },
  {
   "cell_type": "markdown",
   "id": "29a5899a-bf28-4017-8bc6-a798813d0c0f",
   "metadata": {},
   "source": [
    "# Step 4:- Creating tensor input , preparing model"
   ]
  },
  {
   "cell_type": "code",
   "execution_count": 313,
   "id": "ef012467-ca96-4794-8b2e-65351d991ffc",
   "metadata": {},
   "outputs": [],
   "source": [
    "import torch.nn as nn\n",
    "import torch.nn.functional as F\n",
    "from torch.utils.data import TensorDataset,DataLoader,Dataset\n",
    "import torch.optim as optim\n",
    "from sklearn.metrics import roc_auc_score"
   ]
  },
  {
   "cell_type": "markdown",
   "id": "c5602c39-1e2c-4e48-9aba-d1ff19f577f2",
   "metadata": {},
   "source": [
    "# a)Let's convert our data (numpy array) into tensor"
   ]
  },
  {
   "cell_type": "code",
   "execution_count": 316,
   "id": "b545db98-13bc-425d-b356-d72ba29851f7",
   "metadata": {},
   "outputs": [],
   "source": [
    "X_train_tensor=torch.tensor(X_train,dtype=torch.float32)\n",
    "X_test_tensor=torch.tensor(X_test,dtype=torch.float32)\n",
    "y_train_tensor=torch.tensor(y_train,dtype=torch.float32)\n",
    "y_test_tensor=torch.tensor(y_test,dtype=torch.float32)"
   ]
  },
  {
   "cell_type": "code",
   "execution_count": 318,
   "id": "60f3b53a-32ed-4cc5-8cdb-770f250e522b",
   "metadata": {},
   "outputs": [
    {
     "data": {
      "text/plain": [
       "torch.Tensor"
      ]
     },
     "execution_count": 318,
     "metadata": {},
     "output_type": "execute_result"
    }
   ],
   "source": [
    "type(X_train_tensor)"
   ]
  },
  {
   "cell_type": "markdown",
   "id": "f92e3a8f-da7f-4aad-b61a-2f772e3e89e8",
   "metadata": {},
   "source": [
    "# b)Let's create our custome class to prepare dataset \n",
    "it is like to same as TensorDataset."
   ]
  },
  {
   "cell_type": "code",
   "execution_count": 337,
   "id": "dc32baa3-1be0-4ea9-ac8c-49b498145ade",
   "metadata": {},
   "outputs": [],
   "source": [
    "class prepareDataset(Dataset):\n",
    "    def __init__(self,features,lables):\n",
    "      #  if isinstance(features,torch.tensor):\n",
    "            self.features=features\n",
    "      #  else :\n",
    "        #    features=torch.tensor(features,torch.float32)\n",
    "         #   self.features=features\n",
    "     #   if isinstance(lables,torch.tensor):\n",
    "            self.lables=lables\n",
    "     #   else :\n",
    "       #     lables=torch.tensor(lables,torch.float32)\n",
    "            self.lables=lables\n",
    "\n",
    "    def __len__(self):\n",
    "        return len(self.features)\n",
    "\n",
    "    def __getitem__(self,index):\n",
    "        return self.features[index],self.lables[index]\n",
    "    "
   ]
  },
  {
   "cell_type": "markdown",
   "id": "93b03c61-a5e7-423d-a70e-ab73a4a92c95",
   "metadata": {},
   "source": [
    "defining the __init__, __len__, and __getitem__ methods is compulsory when creating a custom dataset class that inherits from PyTorch's Dataset class. These methods define the structure and behavior of the dataset, making it compatible with PyTorch's DataLoader"
   ]
  },
  {
   "cell_type": "markdown",
   "id": "c4d6a154-7c95-45ce-b6ad-738c4dd91516",
   "metadata": {},
   "source": [
    "# c)Let's create our model class"
   ]
  },
  {
   "cell_type": "code",
   "execution_count": 333,
   "id": "8beb06be-c15e-4102-a944-54e0b184ea32",
   "metadata": {},
   "outputs": [],
   "source": [
    "class BinaryClassifierModel(nn.Module):\n",
    "    def __init__(self):\n",
    "        super(BinaryClassifierModel,self).__init__()\n",
    "        self.l1=nn.Linear(X_train.shape[1],256)\n",
    "        self.l2=nn.Linear(256,128)\n",
    "        self.l3=nn.Linear(128,64)\n",
    "        self.l4=nn.Linear(64,1)\n",
    "\n",
    "    def forward(self,x):\n",
    "        x=F.relu(self.l1(x))\n",
    "        x=F.relu(self.l2(x))\n",
    "        x=F.relu(self.l3(x))\n",
    "        x=F.sigmoid(self.l4(x))\n",
    "        return x;"
   ]
  },
  {
   "cell_type": "markdown",
   "id": "b886af74-a29b-4453-bf0f-ce7f491b13e5",
   "metadata": {},
   "source": [
    "# d)Let's create function for training and evaluation "
   ]
  },
  {
   "cell_type": "code",
   "execution_count": 345,
   "id": "ddb1f5f3-7472-49fe-9217-95c60e4460e6",
   "metadata": {},
   "outputs": [],
   "source": [
    "def train_and_evaluate_model(model,optimizer,batch_size=128,epochs=25,print_every=5,patience=5,clip_value=1.0):\n",
    "    model.train() #set model to train mode\n",
    "    train_loss_list=[]\n",
    "    test_loss_list=[]\n",
    "\n",
    "    #Convert tensor data into torch dataset\n",
    "    train_dataset=prepareDataset(X_train_tensor,y_train_tensor)\n",
    "    test_dataset=prepareDataset(X_test_tensor,y_test_tensor)\n",
    "    #Let's create data loader\n",
    "    train_loader=DataLoader(train_dataset,batch_size,shuffle=True)\n",
    "    test_loader=DataLoader(test_dataset,batch_size,shuffle=True)\n",
    "    #let's prepare loss function\n",
    "    criterion=nn.BCELoss()\n",
    "\n",
    "    #Variable for early stopping\n",
    "    best_test_loss=float('inf')\n",
    "    patience_counter=0\n",
    "\n",
    "    # Train for the defined number of epochs\n",
    "    for epoch in range(epochs):\n",
    "        train_loss=0.0\n",
    "        for X,Y in test_loader:\n",
    "            optimizer.zero_grad() # Clear the gradients of all optimized variables\n",
    "            y_pred=model(X)\n",
    "            loss=criterion(y_pred.squeeze(),Y)\n",
    "            loss.backward()\n",
    "            optimizer.step()\n",
    "            train_loss +=loss.item()\n",
    "\n",
    "        #Calculating avg training loss for the current epoch\n",
    "        train_loss /=len(train_loader)\n",
    "        train_loss_list.append(train_loss)\n",
    "\n",
    "        #Evaluate the model on the test set\n",
    "        model.eval() # set the model to evaluation mode\n",
    "        test_loss=0.0\n",
    "        with torch.no_grad(): #disable gradient computation for saving memory\n",
    "            for X,Y in test_loader:\n",
    "                y_pred=model(X)\n",
    "                loss=criterion(y_pred.squeeze(),Y)\n",
    "                test_loss +=loss\n",
    "\n",
    "            test_loss /=len(test_loader) #to calculate avg\n",
    "            test_loss_list.append(test_loss)\n",
    "\n",
    "            #calculate AUC score for every epoch\n",
    "            train_auc=roc_auc_score(y_train,model(X_train_tensor).detach().squeeze().numpy())\n",
    "            test_auc=roc_auc_score(y_test,model(X_test_tensor).detach().squeeze().numpy())\n",
    "            #print progress\n",
    "            if (epoch+1)%print_every==0:\n",
    "                print(f'epoch :-{epoch+1}==> train loss :- {train_loss:.4f} , test loss:- {test_loss:.4f} , AUC train score :- {train_auc:.4f} , AUC test score :- {test_auc:.4f}')\n",
    "    \n",
    "    #after all epoch , let's plot train and test loss\n",
    "    plt.figure(figsize=(10,6))\n",
    "    plt.plot(range(epochs),train_loss_list,label='Train loss')\n",
    "    plt.plot(range(epochs),test_loss_list,label='Test loss')\n",
    "    plt.xlabel('Epochs')\n",
    "    plt.ylabel('loss')\n",
    "    plt.title('Training and Test Loss over Epochs')\n",
    "    plt.legend()\n",
    "    plt.show()\n",
    "            \n",
    "    "
   ]
  },
  {
   "cell_type": "markdown",
   "id": "87fcd358-c0bc-499e-8b73-a8e937d67492",
   "metadata": {},
   "source": [
    "# Step 5 :- let's train and test the model"
   ]
  },
  {
   "cell_type": "code",
   "execution_count": 347,
   "id": "db99ec78-6a30-4aba-a547-4915b96d6397",
   "metadata": {},
   "outputs": [
    {
     "name": "stdout",
     "output_type": "stream",
     "text": [
      "epoch :-10==> train loss :- 0.0980 , test loss:- 0.3880 , AUC train score :- 0.6186 , AUC test score :- 0.6245\n",
      "epoch :-20==> train loss :- 0.0969 , test loss:- 0.3816 , AUC train score :- 0.6313 , AUC test score :- 0.6447\n",
      "epoch :-30==> train loss :- 0.0955 , test loss:- 0.3779 , AUC train score :- 0.6389 , AUC test score :- 0.6626\n",
      "epoch :-40==> train loss :- 0.0947 , test loss:- 0.3742 , AUC train score :- 0.6392 , AUC test score :- 0.6738\n",
      "epoch :-50==> train loss :- 0.0942 , test loss:- 0.3734 , AUC train score :- 0.6366 , AUC test score :- 0.6800\n",
      "epoch :-60==> train loss :- 0.0937 , test loss:- 0.3712 , AUC train score :- 0.6348 , AUC test score :- 0.6856\n",
      "epoch :-70==> train loss :- 0.0933 , test loss:- 0.3694 , AUC train score :- 0.6335 , AUC test score :- 0.6912\n",
      "epoch :-80==> train loss :- 0.0926 , test loss:- 0.3656 , AUC train score :- 0.6330 , AUC test score :- 0.6973\n",
      "epoch :-90==> train loss :- 0.0922 , test loss:- 0.3653 , AUC train score :- 0.6312 , AUC test score :- 0.7044\n",
      "epoch :-100==> train loss :- 0.0918 , test loss:- 0.3618 , AUC train score :- 0.6286 , AUC test score :- 0.7126\n"
     ]
    },
    {
     "data": {
      "image/png": "[encoded data removed]",
      "text/plain": [
       "<Figure size 1000x600 with 1 Axes>"
      ]
     },
     "metadata": {},
     "output_type": "display_data"
    }
   ],
   "source": [
    "model=BinaryClassifierModel() #create instance\n",
    "\n",
    "opt=optim.SGD(model.parameters(),lr=0.01,momentum=0.9,nesterov=True)\n",
    "\n",
    "train_and_evaluate_model(model,opt,epochs=100,print_every=10)"
   ]
  },
  {
   "cell_type": "code",
   "execution_count": 349,
   "id": "e796488d-7281-4ccc-9e93-102fe605ed6a",
   "metadata": {},
   "outputs": [
    {
     "name": "stdout",
     "output_type": "stream",
     "text": [
      "epoch :-10==> train loss :- 0.0927 , test loss:- 0.3654 , AUC train score :- 0.6263 , AUC test score :- 0.7104\n",
      "epoch :-20==> train loss :- 0.0870 , test loss:- 0.3333 , AUC train score :- 0.6137 , AUC test score :- 0.7685\n",
      "epoch :-30==> train loss :- 0.0783 , test loss:- 0.2974 , AUC train score :- 0.5884 , AUC test score :- 0.8188\n",
      "epoch :-40==> train loss :- 0.0710 , test loss:- 0.2694 , AUC train score :- 0.5723 , AUC test score :- 0.8513\n",
      "epoch :-50==> train loss :- 0.0676 , test loss:- 0.2617 , AUC train score :- 0.5665 , AUC test score :- 0.8688\n",
      "epoch :-60==> train loss :- 0.0618 , test loss:- 0.2367 , AUC train score :- 0.5531 , AUC test score :- 0.8862\n",
      "epoch :-70==> train loss :- 0.0559 , test loss:- 0.2136 , AUC train score :- 0.5559 , AUC test score :- 0.9103\n",
      "epoch :-80==> train loss :- 0.0544 , test loss:- 0.2009 , AUC train score :- 0.5428 , AUC test score :- 0.9222\n",
      "epoch :-90==> train loss :- 0.0494 , test loss:- 0.2035 , AUC train score :- 0.5268 , AUC test score :- 0.9326\n",
      "epoch :-100==> train loss :- 0.0466 , test loss:- 0.1713 , AUC train score :- 0.5375 , AUC test score :- 0.9488\n"
     ]
    },
    {
     "data": {
      "image/png": "[encoded data removed]",
      "text/plain": [
       "<Figure size 1000x600 with 1 Axes>"
      ]
     },
     "metadata": {},
     "output_type": "display_data"
    }
   ],
   "source": [
    "model = BinaryClassifierModel()\n",
    "# Initialize SGD optimizer\n",
    "opt = optim.Adam(model.parameters())\n",
    "# Train using optimizer_sgd\n",
    "train_and_evaluate_model(model, opt, epochs=100, print_every=10)"
   ]
  },
  {
   "cell_type": "markdown",
   "id": "3da4dcb9-6099-4f4d-a69c-60557de5fa65",
   "metadata": {},
   "source": [
    "# Key-Observations:\n",
    "1. SGD with Nesterov Momentum:\n",
    "Gradual Improvement: Training and test losses decrease very slowly across epochs, and AUC scores improve gradually.\n",
    "Lower AUC Scores: Even after 100 epochs, the test AUC is 0.7126, which suggests that the model is learning but very slowly.\n",
    "Underfitting Indications: The train AUC remains low throughout, suggesting the model struggles to capture patterns in the data.\n",
    "2. Adam Optimizer:\n",
    "Rapid Convergence: Training and test losses decrease significantly within fewer epochs compared to SGD.\n",
    "Higher AUC Scores: Test AUC improves significantly, reaching 0.9488 after 100 epochs, which is a substantial improvement over SGD.\n",
    "Potential Overfitting: Train AUC remains relatively low, while the test AUC climbs rapidly, which might indicate a lack of generalization over time."
   ]
  },
  {
   "cell_type": "markdown",
   "id": "b5071a36-dcfd-43d0-8111-c24276bff874",
   "metadata": {},
   "source": [
    "# Why Is This Happening?\n",
    "1. SGD with Momentum:\n",
    "SGD with Nesterov momentum requires careful tuning of learning rates and momentum parameters. It often converges slower than Adam, especially in deep models or complex datasets.\n",
    "The slower improvement and lower AUC scores suggest that the learning rate or model architecture may not be optimal.\n",
    "2. Adam Optimizer:\n",
    "Adam adapts the learning rate for each parameter based on gradient moments, which helps it converge faster, especially in noisy or complex loss landscapes.\n",
    "The rapid decrease in loss and increase in test AUC show that Adam is effectively capturing the patterns in your data.\n",
    "However, the lower train AUC suggests that the model might not be learning effectively from training data or that the data itself might not be fully representative."
   ]
  },
  {
   "cell_type": "markdown",
   "id": "65ab0c52-b588-46de-9082-a5b3ccdb1a48",
   "metadata": {},
   "source": [
    "# Step 6 :- Applying Technique to reduce Overfitting "
   ]
  },
  {
   "cell_type": "markdown",
   "id": "01b355af-13c3-49d6-b8a7-92e39cce5260",
   "metadata": {},
   "source": [
    "# a) Apply dropout layer + Normalization between layers + Leaky Relu"
   ]
  },
  {
   "cell_type": "code",
   "execution_count": 358,
   "id": "59309862-54ed-43c1-a495-64da8fdd2bdb",
   "metadata": {},
   "outputs": [],
   "source": [
    "class BinaryClassifierImprovement(nn.Module):\n",
    "    def __init__(self):\n",
    "        super(BinaryClassifierImprovement,self).__init__()\n",
    "        self.l1=nn.Linear(X_train.shape[1],256)\n",
    "        self.n1=nn.BatchNorm1d(256)\n",
    "        self.d1=nn.Dropout(0.5)\n",
    "\n",
    "        self.l2=nn.Linear(256,128)\n",
    "        self.n2=nn.BatchNorm1d(128)\n",
    "        self.d2=nn.Dropout(0.5)\n",
    "\n",
    "        self.l3=nn.Linear(128,64)\n",
    "        self.n3=nn.BatchNorm1d(64)\n",
    "        self.d3=nn.Dropout(0.5)\n",
    "\n",
    "        self.l4=nn.Linear(64,1)\n",
    "\n",
    "    def forward(self,x):\n",
    "        x=F.leaky_relu(self.n1(self.l1(x)),negative_slope=0.01)\n",
    "        x=self.d1(x)\n",
    "        x=F.leaky_relu(self.n2(self.l2(x)),negative_slope=0.01)\n",
    "        x=self.d2(x)\n",
    "        x=F.leaky_relu(self.n3(self.l3(x)),negative_slope=0.01)\n",
    "        x=self.d3(x)\n",
    "        x=torch.sigmoid(self.l4(x))\n",
    "        return x"
   ]
  },
  {
   "cell_type": "code",
   "execution_count": 360,
   "id": "a974ec3d-3657-4844-84d5-ea39d91604a0",
   "metadata": {},
   "outputs": [
    {
     "name": "stdout",
     "output_type": "stream",
     "text": [
      "epoch :-10==> train loss :- 0.0906 , test loss:- 0.3515 , AUC train score :- 0.6310 , AUC test score :- 0.7418\n",
      "epoch :-20==> train loss :- 0.0824 , test loss:- 0.3101 , AUC train score :- 0.6063 , AUC test score :- 0.8170\n",
      "epoch :-30==> train loss :- 0.0702 , test loss:- 0.2541 , AUC train score :- 0.5760 , AUC test score :- 0.8832\n",
      "epoch :-40==> train loss :- 0.0575 , test loss:- 0.2089 , AUC train score :- 0.5639 , AUC test score :- 0.9239\n",
      "epoch :-50==> train loss :- 0.0480 , test loss:- 0.1818 , AUC train score :- 0.5444 , AUC test score :- 0.9474\n",
      "epoch :-60==> train loss :- 0.0440 , test loss:- 0.1526 , AUC train score :- 0.5453 , AUC test score :- 0.9639\n",
      "epoch :-70==> train loss :- 0.0356 , test loss:- 0.1286 , AUC train score :- 0.5484 , AUC test score :- 0.9735\n",
      "epoch :-80==> train loss :- 0.0314 , test loss:- 0.1127 , AUC train score :- 0.5291 , AUC test score :- 0.9824\n",
      "epoch :-90==> train loss :- 0.0289 , test loss:- 0.0955 , AUC train score :- 0.5244 , AUC test score :- 0.9883\n",
      "epoch :-100==> train loss :- 0.0268 , test loss:- 0.0975 , AUC train score :- 0.5184 , AUC test score :- 0.9877\n"
     ]
    },
    {
     "data": {
      "image/png": "[encoded data removed]",
      "text/plain": [
       "<Figure size 1000x600 with 1 Axes>"
      ]
     },
     "metadata": {},
     "output_type": "display_data"
    }
   ],
   "source": [
    "model2=BinaryClassifierImprovement()\n",
    "opti=optim.Adam(model2.parameters())\n",
    "train_and_evaluate_model(model2,opti,epochs=100,print_every=10)"
   ]
  },
  {
   "cell_type": "markdown",
   "id": "3fa48721-69e5-435c-8fad-c3612fc5c89b",
   "metadata": {},
   "source": [
    "our model is performing excellently on the test set due to the integration of dropout, batch normalization, and Leaky ReLU. The high AUC test scores indicate a very capable model for generalization, though fine-tuning hyperparameters might improve the training metrics further. This approach can be a strong baseline for more complex datasets."
   ]
  },
  {
   "cell_type": "markdown",
   "id": "4c315c17-48ac-4321-a754-0d0ccdc03e9b",
   "metadata": {},
   "source": [
    "# b) applying L2 regularization "
   ]
  },
  {
   "cell_type": "code",
   "execution_count": 364,
   "id": "a50cb5c5-1241-4853-8d32-db8e8152535f",
   "metadata": {},
   "outputs": [
    {
     "name": "stdout",
     "output_type": "stream",
     "text": [
      "epoch :-10==> train loss :- 0.0907 , test loss:- 0.3513 , AUC train score :- 0.6308 , AUC test score :- 0.7401\n",
      "epoch :-20==> train loss :- 0.0825 , test loss:- 0.3114 , AUC train score :- 0.6073 , AUC test score :- 0.8156\n",
      "epoch :-30==> train loss :- 0.0709 , test loss:- 0.2585 , AUC train score :- 0.5829 , AUC test score :- 0.8807\n",
      "epoch :-40==> train loss :- 0.0596 , test loss:- 0.2234 , AUC train score :- 0.5679 , AUC test score :- 0.9184\n",
      "epoch :-50==> train loss :- 0.0510 , test loss:- 0.1796 , AUC train score :- 0.5427 , AUC test score :- 0.9513\n",
      "epoch :-60==> train loss :- 0.0391 , test loss:- 0.1392 , AUC train score :- 0.5353 , AUC test score :- 0.9747\n",
      "epoch :-70==> train loss :- 0.0348 , test loss:- 0.1137 , AUC train score :- 0.5506 , AUC test score :- 0.9809\n",
      "epoch :-80==> train loss :- 0.0308 , test loss:- 0.1397 , AUC train score :- 0.5242 , AUC test score :- 0.9767\n",
      "epoch :-90==> train loss :- 0.0261 , test loss:- 0.0889 , AUC train score :- 0.5369 , AUC test score :- 0.9901\n",
      "epoch :-100==> train loss :- 0.0203 , test loss:- 0.0706 , AUC train score :- 0.5291 , AUC test score :- 0.9939\n"
     ]
    },
    {
     "data": {
      "image/png": "[encoded data removed]",
      "text/plain": [
       "<Figure size 1000x600 with 1 Axes>"
      ]
     },
     "metadata": {},
     "output_type": "display_data"
    }
   ],
   "source": [
    "model2=BinaryClassifierImprovement()\n",
    "opti=optim.Adam(model2.parameters(),weight_decay=1e-5)\n",
    "train_and_evaluate_model(model2,opti,epochs=100,print_every=10)"
   ]
  },
  {
   "cell_type": "markdown",
   "id": "fe43d444-4134-4393-84eb-d7870bbd8602",
   "metadata": {},
   "source": [
    "we can see slight improvement !"
   ]
  },
  {
   "cell_type": "markdown",
   "id": "1748a7c9-3b77-4f31-a63c-902595f5ab87",
   "metadata": {},
   "source": [
    "# c) applying early stopping "
   ]
  },
  {
   "cell_type": "code",
   "execution_count": 425,
   "id": "66471ae3-0ad9-47b8-ae15-4e7669ace565",
   "metadata": {},
   "outputs": [],
   "source": [
    "def train_and_evaluate_model(model,optimizer,batch_size=128,epochs=25,print_every=5,patience=5,clip_value=1.0):\n",
    "    model.train() #set model to train mode\n",
    "    train_loss_list=[]\n",
    "    test_loss_list=[]\n",
    "\n",
    "    #Convert tensor data into torch dataset\n",
    "    train_dataset=prepareDataset(X_train_tensor,y_train_tensor)\n",
    "    test_dataset=prepareDataset(X_test_tensor,y_test_tensor)\n",
    "    #Let's create data loader\n",
    "    train_loader=DataLoader(train_dataset,batch_size,shuffle=True)\n",
    "    test_loader=DataLoader(test_dataset,batch_size,shuffle=True)\n",
    "    #let's prepare loss function\n",
    "    criterion=nn.BCELoss()\n",
    "\n",
    "    #Variable for early stopping\n",
    "    best_test_loss=float('inf')\n",
    "    patience_counter=0\n",
    "    max_patience=10\n",
    "    plot_count=0\n",
    "    # Train for the defined number of epochs\n",
    "    for epoch in range(epochs):\n",
    "        train_loss=0.0\n",
    "        for X,Y in test_loader:\n",
    "            optimizer.zero_grad() # Clear the gradients of all optimized variables\n",
    "            y_pred=model(X)\n",
    "            loss=criterion(y_pred.squeeze(),Y)\n",
    "            loss.backward()\n",
    "            optimizer.step()\n",
    "            train_loss +=loss.item()\n",
    "\n",
    "        #Calculating avg training loss for the current epoch\n",
    "        train_loss /=len(train_loader)\n",
    "        train_loss_list.append(train_loss)\n",
    "\n",
    "        #Evaluate the model on the test set\n",
    "        model.eval() # set the model to evaluation mode\n",
    "        test_loss=0.0\n",
    "        with torch.no_grad(): #disable gradient computation for saving memory\n",
    "            for X,Y in test_loader:\n",
    "                y_pred=model(X)\n",
    "                loss=criterion(y_pred.squeeze(),Y)\n",
    "                test_loss +=loss\n",
    "\n",
    "            test_loss /=len(test_loader) #to calculate avg\n",
    "            test_loss_list.append(test_loss)\n",
    "            \n",
    "            #calculate AUC score for every epoch\n",
    "            train_auc=roc_auc_score(y_train,model(X_train_tensor).detach().squeeze().numpy())\n",
    "            test_auc=roc_auc_score(y_test,model(X_test_tensor).detach().squeeze().numpy())\n",
    "            #print progress\n",
    "            if (epoch+1)%print_every==0:\n",
    "                print(f'epoch :-{epoch+1}==> train loss :- {train_loss:.4f} , test loss:- {test_loss:.4f} , AUC train score :- {train_auc:.4f} , AUC test score :- {test_auc:.4f}')\n",
    "        plot_count +=1\n",
    "        #applying oncept of early stop\n",
    "        if best_test_loss > test_loss :\n",
    "            best_test_loss=test_loss\n",
    "            patience=0\n",
    "        else :\n",
    "            patience +=1\n",
    "        if patience >=max_patience:\n",
    "            print(f'EARLY STOPPING TRIGGERED AT EPOCH :- {epoch+1}')\n",
    "            break;\n",
    "    #after all epoch , let's plot train and test loss\n",
    "    plt.figure(figsize=(10,6))\n",
    "    plt.plot(range(plot_count),train_loss_list,label='Train loss')\n",
    "    plt.plot(range(plot_count),test_loss_list,label='Test loss')\n",
    "    plt.xlabel('Epochs')\n",
    "    plt.ylabel('loss')\n",
    "    plt.title('Training and Test Loss over Epochs')\n",
    "    plt.legend()\n",
    "    plt.show()\n",
    "            \n",
    "    "
   ]
  },
  {
   "cell_type": "code",
   "execution_count": 370,
   "id": "9c40ea78-0e85-4e41-ae3b-41f4d750df54",
   "metadata": {},
   "outputs": [
    {
     "name": "stdout",
     "output_type": "stream",
     "text": [
      "epoch :-10==> train loss :- 0.0915 , test loss:- 0.3550 , AUC train score :- 0.6363 , AUC test score :- 0.7335\n",
      "epoch :-20==> train loss :- 0.0842 , test loss:- 0.3141 , AUC train score :- 0.6123 , AUC test score :- 0.8138\n",
      "epoch :-30==> train loss :- 0.0732 , test loss:- 0.2639 , AUC train score :- 0.5812 , AUC test score :- 0.8735\n",
      "epoch :-40==> train loss :- 0.0595 , test loss:- 0.2151 , AUC train score :- 0.5534 , AUC test score :- 0.9224\n",
      "epoch :-50==> train loss :- 0.0489 , test loss:- 0.1812 , AUC train score :- 0.5591 , AUC test score :- 0.9484\n",
      "epoch :-60==> train loss :- 0.0433 , test loss:- 0.1432 , AUC train score :- 0.5393 , AUC test score :- 0.9717\n",
      "epoch :-70==> train loss :- 0.0357 , test loss:- 0.1335 , AUC train score :- 0.5310 , AUC test score :- 0.9718\n",
      "epoch :-80==> train loss :- 0.0323 , test loss:- 0.1134 , AUC train score :- 0.5372 , AUC test score :- 0.9824\n",
      "epoch :-90==> train loss :- 0.0285 , test loss:- 0.1057 , AUC train score :- 0.5182 , AUC test score :- 0.9856\n",
      "epoch :-100==> train loss :- 0.0269 , test loss:- 0.0919 , AUC train score :- 0.5171 , AUC test score :- 0.9895\n"
     ]
    },
    {
     "data": {
      "image/png": "[encoded data removed]",
      "text/plain": [
       "<Figure size 1000x600 with 1 Axes>"
      ]
     },
     "metadata": {},
     "output_type": "display_data"
    }
   ],
   "source": [
    "model2=BinaryClassifierImprovement()\n",
    "opti=optim.Adam(model2.parameters(),weight_decay=1e-5)\n",
    "train_and_evaluate_model(model2,opti,epochs=100,print_every=10)"
   ]
  },
  {
   "cell_type": "markdown",
   "id": "370be3e3-8d33-418b-ba01-f70059aa8b0e",
   "metadata": {},
   "source": [
    "# d) Applying hyperparameter tuning by Optuna library"
   ]
  },
  {
   "cell_type": "markdown",
   "id": "c8c9d106-8ccf-4dff-8221-457a48cf9af4",
   "metadata": {},
   "source": [
    "Tuning hyperparameters with the Optuna package is an efficient and automated way to find the optimal parameters for your machine learning or deep learning models"
   ]
  },
  {
   "cell_type": "markdown",
   "id": "64d6b1c3-4a5e-44a2-96c7-2f91c26595ce",
   "metadata": {},
   "source": [
    "Define the Objective Function\n",
    "The objective function is the core of the Optuna optimization process. It defines:\n",
    "\n",
    "Your model's architecture or configuration.\n",
    "How the hyperparameters should be sampled.\n",
    "The evaluation metric to be minimized or maximized."
   ]
  },
  {
   "cell_type": "code",
   "execution_count": 375,
   "id": "e15c34d3-87fb-48b2-9848-6c82f5354d79",
   "metadata": {},
   "outputs": [],
   "source": [
    "# 1. import library \n",
    "import optuna"
   ]
  },
  {
   "cell_type": "code",
   "execution_count": 377,
   "id": "5ceaad77-c65c-4472-bbaf-6882b5c63363",
   "metadata": {},
   "outputs": [],
   "source": [
    "# 2. define the model with the hyperparameter as function argument , it will be putting by optuna\n",
    "\n",
    "class BinaryClassifierDropoutOptuna(nn.Module):\n",
    "    def __init__(self,num_features,num_classes,dropout_rate,num_layers,num_nodes):\n",
    "        super(BinaryClassifierDropoutOptuna,self).__init__()\n",
    "        layers=[]\n",
    "        prev_nodes=num_features\n",
    "\n",
    "        #Dynamically create layers based on num_layers and num_nodes\n",
    "        for i in range(num_layers):\n",
    "            layers.append(nn.Linear(prev_nodes,num_nodes)) #fix intermediate nodes\n",
    "            layers.append(nn.LeakyReLU())\n",
    "            layers.append(nn.Dropout(dropout_rate))\n",
    "            layers.append(nn.BatchNorm1d(num_nodes))\n",
    "            prev_nodes=num_nodes\n",
    "\n",
    "        #output layer\n",
    "        layers.append(nn.Linear(prev_nodes,num_classes))\n",
    "        self.layers=nn.Sequential(*layers)\n",
    "        #In Python, the * operator is used to unpack a collection (like a list or tuple) into individual elements. When used in function calls, it allows passing each element of a list (or tuple) as separate arguments.\n",
    "\n",
    "    def forward(self,x):\n",
    "        x=self.layers(x)\n",
    "        x=torch.sigmoid(x)\n",
    "        return x"
   ]
  },
  {
   "cell_type": "code",
   "execution_count": 403,
   "id": "0d9aff4c-ede6-4f64-aa55-9da0354b3df1",
   "metadata": {},
   "outputs": [],
   "source": [
    "# 3. define the training and evaluation model who return AUC score , bcoz we want to maimze it\n",
    "def train_and_evaluate_model_optuna(model, optimizer,batch_size=128,epochs=25,print_every=5,show_plot=False):\n",
    "    model.train()\n",
    "\n",
    "    train_loss_list = []\n",
    "    test_loss_list = []\n",
    "\n",
    "    train_dataset = prepareDataset(X_train_tensor, y_train_tensor)\n",
    "    train_loader = DataLoader(dataset=train_dataset, batch_size=batch_size, shuffle=True)\n",
    "\n",
    "    test_dataset = prepareDataset(X_test_tensor, y_test_tensor)\n",
    "    test_loader = DataLoader(dataset=test_dataset, batch_size=batch_size, shuffle=False)\n",
    "\n",
    "    criterion = nn.BCELoss()\n",
    "\n",
    "    for epoch in range(epochs):\n",
    "        train_loss = 0.0\n",
    "        model.train()\n",
    "        for features, labels in train_loader:\n",
    "            optimizer.zero_grad()\n",
    "            outputs = model(features)\n",
    "            loss = criterion(outputs.squeeze(), labels)\n",
    "            loss.backward()\n",
    "            optimizer.step()\n",
    "            train_loss += loss.item()\n",
    "\n",
    "        train_loss /= len(train_loader)\n",
    "        train_loss_list.append(train_loss)\n",
    "\n",
    "        model.eval()\n",
    "        test_loss = 0.0\n",
    "        with torch.no_grad():\n",
    "            for features, labels in test_loader:\n",
    "                outputs = model(features)\n",
    "                loss = criterion(outputs.squeeze(), labels)\n",
    "                test_loss += loss.item()\n",
    "\n",
    "        test_loss /= len(test_loader)\n",
    "        test_loss_list.append(test_loss)\n",
    "\n",
    "        if (epoch + 1) % print_every == 0:\n",
    "            print(f'Epoch {epoch+1}/{epochs}, Train Loss: {train_loss:.4f}, Test Loss: {test_loss:.4f}')\n",
    "            model.eval()\n",
    "            with torch.no_grad():\n",
    "                train_preds = model(X_train_tensor).squeeze()\n",
    "                test_preds = model(X_test_tensor).squeeze()\n",
    "                train_auc = roc_auc_score(y_train_tensor.cpu(), train_preds.cpu())\n",
    "                test_auc = roc_auc_score(y_test_tensor.cpu(), test_preds.cpu())\n",
    "            print(f'Train AUC: {train_auc:.4f}, Test AUC: {test_auc:.4f}')\n",
    "\n",
    "    if show_plot:\n",
    "        plt.plot(range(epochs), train_loss_list, label='train')\n",
    "        plt.plot(range(epochs), test_loss_list, label='test')\n",
    "        plt.legend()\n",
    "        plt.show()\n",
    "\n",
    "    return train_auc, test_auc"
   ]
  },
  {
   "cell_type": "code",
   "execution_count": 399,
   "id": "79e101a9-de2e-4750-9cdb-61bf0deb53af",
   "metadata": {},
   "outputs": [],
   "source": [
    "# 4. define Optuna objective function\n",
    "def objective(trial):\n",
    "    dropout_rate=trial.suggest_float('dropout_rate',0.1,0.5)\n",
    "    num_layers=trial.suggest_int('num_layers',2,5)\n",
    "    num_nodes=trial.suggest_categorical('num_nodes',[64,128]) #will give value from this set\n",
    "    lr=trial.suggest_float('lr',1e-5,1e-1,log=True)\n",
    "\n",
    "    model=BinaryClassifierDropoutOptuna(num_features=X_train.shape[1],num_classes=1,dropout_rate=dropout_rate,num_layers=num_layers,num_nodes=num_nodes)\n",
    "    optimizer=optim.Adam(model.parameters(),lr=lr)\n",
    "\n",
    "    train_auc,test_auc=train_and_evaluate_model_optuna(model,optimizer,epochs=30,print_every=5)\n",
    "    return test_auc\n",
    "\n"
   ]
  },
  {
   "cell_type": "code",
   "execution_count": 405,
   "id": "5cd9f1dc-6f8b-431e-b3c3-5c9aa50e2e12",
   "metadata": {},
   "outputs": [
    {
     "name": "stderr",
     "output_type": "stream",
     "text": [
      "[I 2025-01-05 10:49:56,916] A new study created in memory with name: no-name-cfa99f50-21b7-47f8-a99c-cfd8c192f9e0\n"
     ]
    },
    {
     "name": "stdout",
     "output_type": "stream",
     "text": [
      "Epoch 5/30, Train Loss: 0.6610, Test Loss: 0.6192\n",
      "Train AUC: 0.5536, Test AUC: 0.5651\n",
      "Epoch 10/30, Train Loss: 0.6314, Test Loss: 0.5932\n",
      "Train AUC: 0.5793, Test AUC: 0.5872\n",
      "Epoch 15/30, Train Loss: 0.6023, Test Loss: 0.5705\n",
      "Train AUC: 0.5988, Test AUC: 0.5987\n",
      "Epoch 20/30, Train Loss: 0.5751, Test Loss: 0.5453\n",
      "Train AUC: 0.6095, Test AUC: 0.6008\n",
      "Epoch 25/30, Train Loss: 0.5455, Test Loss: 0.5144\n",
      "Train AUC: 0.6141, Test AUC: 0.6062\n"
     ]
    },
    {
     "name": "stderr",
     "output_type": "stream",
     "text": [
      "[I 2025-01-05 10:50:09,192] Trial 0 finished with value: 0.6090693568726355 and parameters: {'dropout_rate': 0.3175972871950522, 'num_layers': 3, 'num_nodes': 64, 'lr': 3.0500587797354592e-05}. Best is trial 0 with value: 0.6090693568726355.\n"
     ]
    },
    {
     "name": "stdout",
     "output_type": "stream",
     "text": [
      "Epoch 30/30, Train Loss: 0.5182, Test Loss: 0.4850\n",
      "Train AUC: 0.6201, Test AUC: 0.6091\n",
      "Epoch 5/30, Train Loss: 0.5991, Test Loss: 0.5776\n",
      "Train AUC: 0.6656, Test AUC: 0.6013\n",
      "Epoch 10/30, Train Loss: 0.4447, Test Loss: 0.4396\n",
      "Train AUC: 0.6836, Test AUC: 0.5964\n",
      "Epoch 15/30, Train Loss: 0.3905, Test Loss: 0.3965\n",
      "Train AUC: 0.7039, Test AUC: 0.6116\n",
      "Epoch 20/30, Train Loss: 0.3811, Test Loss: 0.3922\n",
      "Train AUC: 0.7107, Test AUC: 0.6214\n",
      "Epoch 25/30, Train Loss: 0.3778, Test Loss: 0.3907\n",
      "Train AUC: 0.7173, Test AUC: 0.6293\n"
     ]
    },
    {
     "name": "stderr",
     "output_type": "stream",
     "text": [
      "[I 2025-01-05 10:50:28,765] Trial 1 finished with value: 0.6303379571248424 and parameters: {'dropout_rate': 0.10936806407642892, 'num_layers': 5, 'num_nodes': 128, 'lr': 0.00010491806468725578}. Best is trial 1 with value: 0.6303379571248424.\n"
     ]
    },
    {
     "name": "stdout",
     "output_type": "stream",
     "text": [
      "Epoch 30/30, Train Loss: 0.3735, Test Loss: 0.3902\n",
      "Train AUC: 0.7237, Test AUC: 0.6303\n",
      "Epoch 5/30, Train Loss: 0.6791, Test Loss: 0.6398\n",
      "Train AUC: 0.6180, Test AUC: 0.6140\n",
      "Epoch 10/30, Train Loss: 0.5987, Test Loss: 0.5634\n",
      "Train AUC: 0.6237, Test AUC: 0.6220\n",
      "Epoch 15/30, Train Loss: 0.5159, Test Loss: 0.4859\n",
      "Train AUC: 0.6272, Test AUC: 0.6131\n",
      "Epoch 20/30, Train Loss: 0.4612, Test Loss: 0.4279\n",
      "Train AUC: 0.6338, Test AUC: 0.6230\n",
      "Epoch 25/30, Train Loss: 0.4268, Test Loss: 0.3990\n",
      "Train AUC: 0.6417, Test AUC: 0.6230\n"
     ]
    },
    {
     "name": "stderr",
     "output_type": "stream",
     "text": [
      "[I 2025-01-05 10:50:39,684] Trial 2 finished with value: 0.6279766708701136 and parameters: {'dropout_rate': 0.4351702724493277, 'num_layers': 3, 'num_nodes': 64, 'lr': 7.554792644887424e-05}. Best is trial 1 with value: 0.6303379571248424.\n"
     ]
    },
    {
     "name": "stdout",
     "output_type": "stream",
     "text": [
      "Epoch 30/30, Train Loss: 0.4134, Test Loss: 0.3898\n",
      "Train AUC: 0.6464, Test AUC: 0.6280\n",
      "Epoch 5/30, Train Loss: 0.6845, Test Loss: 0.6375\n",
      "Train AUC: 0.5335, Test AUC: 0.5233\n",
      "Epoch 10/30, Train Loss: 0.6612, Test Loss: 0.6212\n",
      "Train AUC: 0.5542, Test AUC: 0.5415\n",
      "Epoch 15/30, Train Loss: 0.6406, Test Loss: 0.6050\n",
      "Train AUC: 0.5595, Test AUC: 0.5455\n",
      "Epoch 20/30, Train Loss: 0.6219, Test Loss: 0.5859\n",
      "Train AUC: 0.5741, Test AUC: 0.5619\n",
      "Epoch 25/30, Train Loss: 0.6052, Test Loss: 0.5725\n",
      "Train AUC: 0.5779, Test AUC: 0.5660\n"
     ]
    },
    {
     "name": "stderr",
     "output_type": "stream",
     "text": [
      "[I 2025-01-05 10:50:55,277] Trial 3 finished with value: 0.576641235813367 and parameters: {'dropout_rate': 0.3377033460858575, 'num_layers': 5, 'num_nodes': 64, 'lr': 2.0934856253437162e-05}. Best is trial 1 with value: 0.6303379571248424.\n"
     ]
    },
    {
     "name": "stdout",
     "output_type": "stream",
     "text": [
      "Epoch 30/30, Train Loss: 0.5843, Test Loss: 0.5486\n",
      "Train AUC: 0.5876, Test AUC: 0.5766\n",
      "Epoch 5/30, Train Loss: 0.6500, Test Loss: 0.6515\n",
      "Train AUC: 0.6255, Test AUC: 0.6112\n",
      "Epoch 10/30, Train Loss: 0.5687, Test Loss: 0.5640\n",
      "Train AUC: 0.6457, Test AUC: 0.6200\n",
      "Epoch 15/30, Train Loss: 0.4916, Test Loss: 0.4769\n",
      "Train AUC: 0.6542, Test AUC: 0.6184\n",
      "Epoch 20/30, Train Loss: 0.4331, Test Loss: 0.4213\n",
      "Train AUC: 0.6637, Test AUC: 0.6205\n",
      "Epoch 25/30, Train Loss: 0.4057, Test Loss: 0.3971\n",
      "Train AUC: 0.6683, Test AUC: 0.6257\n"
     ]
    },
    {
     "name": "stderr",
     "output_type": "stream",
     "text": [
      "[I 2025-01-05 10:51:04,475] Trial 4 finished with value: 0.6299583858764186 and parameters: {'dropout_rate': 0.3159317791376388, 'num_layers': 2, 'num_nodes': 64, 'lr': 7.576658215897133e-05}. Best is trial 1 with value: 0.6303379571248424.\n"
     ]
    },
    {
     "name": "stdout",
     "output_type": "stream",
     "text": [
      "Epoch 30/30, Train Loss: 0.3959, Test Loss: 0.3878\n",
      "Train AUC: 0.6718, Test AUC: 0.6300\n",
      "Epoch 5/30, Train Loss: 0.6272, Test Loss: 0.6169\n",
      "Train AUC: 0.6359, Test AUC: 0.6211\n",
      "Epoch 10/30, Train Loss: 0.5514, Test Loss: 0.5365\n",
      "Train AUC: 0.6511, Test AUC: 0.6252\n",
      "Epoch 15/30, Train Loss: 0.4734, Test Loss: 0.4536\n",
      "Train AUC: 0.6613, Test AUC: 0.6298\n",
      "Epoch 20/30, Train Loss: 0.4282, Test Loss: 0.4116\n",
      "Train AUC: 0.6655, Test AUC: 0.6235\n",
      "Epoch 25/30, Train Loss: 0.4048, Test Loss: 0.3936\n",
      "Train AUC: 0.6719, Test AUC: 0.6280\n"
     ]
    },
    {
     "name": "stderr",
     "output_type": "stream",
     "text": [
      "[I 2025-01-05 10:51:15,129] Trial 5 finished with value: 0.6332269861286255 and parameters: {'dropout_rate': 0.45142641515700765, 'num_layers': 2, 'num_nodes': 128, 'lr': 6.408889881589297e-05}. Best is trial 5 with value: 0.6332269861286255.\n"
     ]
    },
    {
     "name": "stdout",
     "output_type": "stream",
     "text": [
      "Epoch 30/30, Train Loss: 0.3986, Test Loss: 0.3874\n",
      "Train AUC: 0.6770, Test AUC: 0.6332\n",
      "Epoch 5/30, Train Loss: 0.3846, Test Loss: 0.3850\n",
      "Train AUC: 0.6777, Test AUC: 0.6416\n",
      "Epoch 10/30, Train Loss: 0.3722, Test Loss: 0.3861\n",
      "Train AUC: 0.7007, Test AUC: 0.6363\n",
      "Epoch 15/30, Train Loss: 0.3679, Test Loss: 0.3883\n",
      "Train AUC: 0.7119, Test AUC: 0.6422\n",
      "Epoch 20/30, Train Loss: 0.3625, Test Loss: 0.3938\n",
      "Train AUC: 0.7291, Test AUC: 0.6241\n",
      "Epoch 25/30, Train Loss: 0.3588, Test Loss: 0.3978\n",
      "Train AUC: 0.7320, Test AUC: 0.6316\n"
     ]
    },
    {
     "name": "stderr",
     "output_type": "stream",
     "text": [
      "[I 2025-01-05 10:51:31,186] Trial 6 finished with value: 0.6209899117276168 and parameters: {'dropout_rate': 0.16596694690738906, 'num_layers': 4, 'num_nodes': 128, 'lr': 0.0009735949139658845}. Best is trial 5 with value: 0.6332269861286255.\n"
     ]
    },
    {
     "name": "stdout",
     "output_type": "stream",
     "text": [
      "Epoch 30/30, Train Loss: 0.3567, Test Loss: 0.4017\n",
      "Train AUC: 0.7468, Test AUC: 0.6210\n",
      "Epoch 5/30, Train Loss: 0.3818, Test Loss: 0.3869\n",
      "Train AUC: 0.6561, Test AUC: 0.6369\n",
      "Epoch 10/30, Train Loss: 0.3790, Test Loss: 0.5988\n",
      "Train AUC: 0.6609, Test AUC: 0.6304\n",
      "Epoch 15/30, Train Loss: 0.3767, Test Loss: 0.4118\n",
      "Train AUC: 0.6687, Test AUC: 0.6416\n",
      "Epoch 20/30, Train Loss: 0.3818, Test Loss: 0.4115\n",
      "Train AUC: 0.6677, Test AUC: 0.6395\n",
      "Epoch 25/30, Train Loss: 0.3758, Test Loss: 0.4375\n",
      "Train AUC: 0.6663, Test AUC: 0.6447\n"
     ]
    },
    {
     "name": "stderr",
     "output_type": "stream",
     "text": [
      "[I 2025-01-05 10:51:43,442] Trial 7 finished with value: 0.639374527112232 and parameters: {'dropout_rate': 0.20057452159982891, 'num_layers': 4, 'num_nodes': 64, 'lr': 0.061183698428462094}. Best is trial 7 with value: 0.639374527112232.\n"
     ]
    },
    {
     "name": "stdout",
     "output_type": "stream",
     "text": [
      "Epoch 30/30, Train Loss: 0.3754, Test Loss: 0.5462\n",
      "Train AUC: 0.6720, Test AUC: 0.6394\n",
      "Epoch 5/30, Train Loss: 0.3746, Test Loss: 0.3881\n",
      "Train AUC: 0.6579, Test AUC: 0.6353\n",
      "Epoch 10/30, Train Loss: 0.3738, Test Loss: 0.3890\n",
      "Train AUC: 0.6651, Test AUC: 0.6285\n",
      "Epoch 15/30, Train Loss: 0.3736, Test Loss: 0.3844\n",
      "Train AUC: 0.6687, Test AUC: 0.6423\n",
      "Epoch 20/30, Train Loss: 0.3718, Test Loss: 0.3900\n",
      "Train AUC: 0.6749, Test AUC: 0.6359\n",
      "Epoch 25/30, Train Loss: 0.3723, Test Loss: 0.3881\n",
      "Train AUC: 0.6771, Test AUC: 0.6504\n"
     ]
    },
    {
     "name": "stderr",
     "output_type": "stream",
     "text": [
      "[I 2025-01-05 10:51:53,087] Trial 8 finished with value: 0.6485189155107188 and parameters: {'dropout_rate': 0.15593091957604052, 'num_layers': 2, 'num_nodes': 64, 'lr': 0.04378196440068933}. Best is trial 8 with value: 0.6485189155107188.\n"
     ]
    },
    {
     "name": "stdout",
     "output_type": "stream",
     "text": [
      "Epoch 30/30, Train Loss: 0.3727, Test Loss: 0.3901\n",
      "Train AUC: 0.6778, Test AUC: 0.6485\n",
      "Epoch 5/30, Train Loss: 0.4648, Test Loss: 0.4174\n",
      "Train AUC: 0.6306, Test AUC: 0.5989\n",
      "Epoch 10/30, Train Loss: 0.4029, Test Loss: 0.3880\n",
      "Train AUC: 0.6519, Test AUC: 0.6166\n",
      "Epoch 15/30, Train Loss: 0.3908, Test Loss: 0.3878\n",
      "Train AUC: 0.6620, Test AUC: 0.6213\n",
      "Epoch 20/30, Train Loss: 0.3857, Test Loss: 0.3858\n",
      "Train AUC: 0.6686, Test AUC: 0.6330\n",
      "Epoch 25/30, Train Loss: 0.3817, Test Loss: 0.3853\n",
      "Train AUC: 0.6723, Test AUC: 0.6346\n"
     ]
    },
    {
     "name": "stderr",
     "output_type": "stream",
     "text": [
      "[I 2025-01-05 10:52:02,569] Trial 9 finished with value: 0.6368341740226986 and parameters: {'dropout_rate': 0.46366849032762536, 'num_layers': 2, 'num_nodes': 64, 'lr': 0.000305804879141012}. Best is trial 8 with value: 0.6485189155107188.\n"
     ]
    },
    {
     "name": "stdout",
     "output_type": "stream",
     "text": [
      "Epoch 30/30, Train Loss: 0.3782, Test Loss: 0.3851\n",
      "Train AUC: 0.6756, Test AUC: 0.6368\n",
      "Epoch 5/30, Train Loss: 0.3769, Test Loss: 0.3878\n",
      "Train AUC: 0.6612, Test AUC: 0.6449\n",
      "Epoch 10/30, Train Loss: 0.3770, Test Loss: 0.4132\n",
      "Train AUC: 0.6663, Test AUC: 0.6452\n",
      "Epoch 15/30, Train Loss: 0.3795, Test Loss: 0.4371\n",
      "Train AUC: 0.6597, Test AUC: 0.6439\n",
      "Epoch 20/30, Train Loss: 0.3780, Test Loss: 0.4109\n",
      "Train AUC: 0.6631, Test AUC: 0.6442\n",
      "Epoch 25/30, Train Loss: 0.3803, Test Loss: 0.4139\n",
      "Train AUC: 0.6618, Test AUC: 0.6360\n"
     ]
    },
    {
     "name": "stderr",
     "output_type": "stream",
     "text": [
      "[I 2025-01-05 10:52:15,452] Trial 10 finished with value: 0.6376525851197982 and parameters: {'dropout_rate': 0.2226818069577131, 'num_layers': 3, 'num_nodes': 128, 'lr': 0.04329059696545332}. Best is trial 8 with value: 0.6485189155107188.\n"
     ]
    },
    {
     "name": "stdout",
     "output_type": "stream",
     "text": [
      "Epoch 30/30, Train Loss: 0.3792, Test Loss: 0.4456\n",
      "Train AUC: 0.6708, Test AUC: 0.6377\n",
      "Epoch 5/30, Train Loss: 0.3843, Test Loss: 0.3879\n",
      "Train AUC: 0.6480, Test AUC: 0.6371\n",
      "Epoch 10/30, Train Loss: 0.3834, Test Loss: 0.5492\n",
      "Train AUC: 0.6468, Test AUC: 0.6272\n",
      "Epoch 15/30, Train Loss: 0.3827, Test Loss: 0.4680\n",
      "Train AUC: 0.6569, Test AUC: 0.6386\n",
      "Epoch 20/30, Train Loss: 0.3799, Test Loss: 0.4695\n",
      "Train AUC: 0.6639, Test AUC: 0.6393\n",
      "Epoch 25/30, Train Loss: 0.3790, Test Loss: 0.4401\n",
      "Train AUC: 0.6631, Test AUC: 0.6399\n"
     ]
    },
    {
     "name": "stderr",
     "output_type": "stream",
     "text": [
      "[I 2025-01-05 10:52:28,451] Trial 11 finished with value: 0.6231923076923076 and parameters: {'dropout_rate': 0.2329603928805453, 'num_layers': 4, 'num_nodes': 64, 'lr': 0.07024483653646679}. Best is trial 8 with value: 0.6485189155107188.\n"
     ]
    },
    {
     "name": "stdout",
     "output_type": "stream",
     "text": [
      "Epoch 30/30, Train Loss: 0.3843, Test Loss: 0.4193\n",
      "Train AUC: 0.6557, Test AUC: 0.6232\n",
      "Epoch 5/30, Train Loss: 0.3748, Test Loss: 0.3844\n",
      "Train AUC: 0.6707, Test AUC: 0.6413\n",
      "Epoch 10/30, Train Loss: 0.3715, Test Loss: 0.3873\n",
      "Train AUC: 0.6799, Test AUC: 0.6455\n",
      "Epoch 15/30, Train Loss: 0.3696, Test Loss: 0.3852\n",
      "Train AUC: 0.6853, Test AUC: 0.6359\n",
      "Epoch 20/30, Train Loss: 0.3680, Test Loss: 0.3881\n",
      "Train AUC: 0.6880, Test AUC: 0.6353\n",
      "Epoch 25/30, Train Loss: 0.3662, Test Loss: 0.3855\n",
      "Train AUC: 0.6914, Test AUC: 0.6398\n"
     ]
    },
    {
     "name": "stderr",
     "output_type": "stream",
     "text": [
      "[I 2025-01-05 10:52:41,826] Trial 12 finished with value: 0.6479136191677175 and parameters: {'dropout_rate': 0.10489049553901503, 'num_layers': 4, 'num_nodes': 64, 'lr': 0.011175938931553222}. Best is trial 8 with value: 0.6485189155107188.\n"
     ]
    },
    {
     "name": "stdout",
     "output_type": "stream",
     "text": [
      "Epoch 30/30, Train Loss: 0.3688, Test Loss: 0.3829\n",
      "Train AUC: 0.6880, Test AUC: 0.6479\n",
      "Epoch 5/30, Train Loss: 0.3723, Test Loss: 0.3822\n",
      "Train AUC: 0.6726, Test AUC: 0.6463\n",
      "Epoch 10/30, Train Loss: 0.3728, Test Loss: 0.3847\n",
      "Train AUC: 0.6775, Test AUC: 0.6386\n",
      "Epoch 15/30, Train Loss: 0.3679, Test Loss: 0.3893\n",
      "Train AUC: 0.6843, Test AUC: 0.6391\n",
      "Epoch 20/30, Train Loss: 0.3682, Test Loss: 0.3873\n",
      "Train AUC: 0.6876, Test AUC: 0.6358\n",
      "Epoch 25/30, Train Loss: 0.3672, Test Loss: 0.3855\n",
      "Train AUC: 0.7022, Test AUC: 0.6362\n"
     ]
    },
    {
     "name": "stderr",
     "output_type": "stream",
     "text": [
      "[I 2025-01-05 10:52:55,433] Trial 13 finished with value: 0.642781210592686 and parameters: {'dropout_rate': 0.11278610004407448, 'num_layers': 4, 'num_nodes': 64, 'lr': 0.00871391105275578}. Best is trial 8 with value: 0.6485189155107188.\n"
     ]
    },
    {
     "name": "stdout",
     "output_type": "stream",
     "text": [
      "Epoch 30/30, Train Loss: 0.3651, Test Loss: 0.3919\n",
      "Train AUC: 0.7024, Test AUC: 0.6428\n",
      "Epoch 5/30, Train Loss: 0.3731, Test Loss: 0.3831\n",
      "Train AUC: 0.6745, Test AUC: 0.6457\n",
      "Epoch 10/30, Train Loss: 0.3705, Test Loss: 0.3878\n",
      "Train AUC: 0.6883, Test AUC: 0.6294\n",
      "Epoch 15/30, Train Loss: 0.3666, Test Loss: 0.3920\n",
      "Train AUC: 0.6927, Test AUC: 0.6438\n",
      "Epoch 20/30, Train Loss: 0.3674, Test Loss: 0.3859\n",
      "Train AUC: 0.7021, Test AUC: 0.6400\n",
      "Epoch 25/30, Train Loss: 0.3643, Test Loss: 0.3853\n",
      "Train AUC: 0.7056, Test AUC: 0.6429\n"
     ]
    },
    {
     "name": "stderr",
     "output_type": "stream",
     "text": [
      "[I 2025-01-05 10:53:06,751] Trial 14 finished with value: 0.642296973518285 and parameters: {'dropout_rate': 0.15646024265597944, 'num_layers': 3, 'num_nodes': 64, 'lr': 0.006869949161932969}. Best is trial 8 with value: 0.6485189155107188.\n"
     ]
    },
    {
     "name": "stdout",
     "output_type": "stream",
     "text": [
      "Epoch 30/30, Train Loss: 0.3640, Test Loss: 0.3871\n",
      "Train AUC: 0.7150, Test AUC: 0.6423\n",
      "Epoch 5/30, Train Loss: 0.3729, Test Loss: 0.3887\n",
      "Train AUC: 0.6729, Test AUC: 0.6366\n",
      "Epoch 10/30, Train Loss: 0.3708, Test Loss: 0.3888\n",
      "Train AUC: 0.6805, Test AUC: 0.6381\n",
      "Epoch 15/30, Train Loss: 0.3695, Test Loss: 0.3834\n",
      "Train AUC: 0.6833, Test AUC: 0.6453\n",
      "Epoch 20/30, Train Loss: 0.3689, Test Loss: 0.3868\n",
      "Train AUC: 0.6854, Test AUC: 0.6416\n",
      "Epoch 25/30, Train Loss: 0.3663, Test Loss: 0.3886\n",
      "Train AUC: 0.6988, Test AUC: 0.6393\n"
     ]
    },
    {
     "name": "stderr",
     "output_type": "stream",
     "text": [
      "[I 2025-01-05 10:53:21,587] Trial 15 finished with value: 0.6396626733921815 and parameters: {'dropout_rate': 0.10441561324555335, 'num_layers': 5, 'num_nodes': 64, 'lr': 0.008466713947331254}. Best is trial 8 with value: 0.6485189155107188.\n"
     ]
    },
    {
     "name": "stdout",
     "output_type": "stream",
     "text": [
      "Epoch 30/30, Train Loss: 0.3649, Test Loss: 0.3851\n",
      "Train AUC: 0.7040, Test AUC: 0.6397\n",
      "Epoch 5/30, Train Loss: 0.3736, Test Loss: 0.3854\n",
      "Train AUC: 0.6666, Test AUC: 0.6492\n",
      "Epoch 10/30, Train Loss: 0.3731, Test Loss: 0.3871\n",
      "Train AUC: 0.6691, Test AUC: 0.6390\n",
      "Epoch 15/30, Train Loss: 0.3717, Test Loss: 0.4221\n",
      "Train AUC: 0.6723, Test AUC: 0.6441\n",
      "Epoch 20/30, Train Loss: 0.3717, Test Loss: 0.3863\n",
      "Train AUC: 0.6797, Test AUC: 0.6385\n",
      "Epoch 25/30, Train Loss: 0.3709, Test Loss: 0.3913\n",
      "Train AUC: 0.6827, Test AUC: 0.6389\n"
     ]
    },
    {
     "name": "stderr",
     "output_type": "stream",
     "text": [
      "[I 2025-01-05 10:53:30,680] Trial 16 finished with value: 0.6377730138713745 and parameters: {'dropout_rate': 0.2530371172026732, 'num_layers': 2, 'num_nodes': 64, 'lr': 0.01712007084726615}. Best is trial 8 with value: 0.6485189155107188.\n"
     ]
    },
    {
     "name": "stdout",
     "output_type": "stream",
     "text": [
      "Epoch 30/30, Train Loss: 0.3684, Test Loss: 0.3929\n",
      "Train AUC: 0.6864, Test AUC: 0.6378\n",
      "Epoch 5/30, Train Loss: 0.3775, Test Loss: 0.3834\n",
      "Train AUC: 0.6784, Test AUC: 0.6385\n",
      "Epoch 10/30, Train Loss: 0.3716, Test Loss: 0.3839\n",
      "Train AUC: 0.6926, Test AUC: 0.6400\n",
      "Epoch 15/30, Train Loss: 0.3684, Test Loss: 0.3852\n",
      "Train AUC: 0.7029, Test AUC: 0.6364\n",
      "Epoch 20/30, Train Loss: 0.3664, Test Loss: 0.3859\n",
      "Train AUC: 0.7123, Test AUC: 0.6390\n",
      "Epoch 25/30, Train Loss: 0.3642, Test Loss: 0.3881\n",
      "Train AUC: 0.7179, Test AUC: 0.6326\n"
     ]
    },
    {
     "name": "stderr",
     "output_type": "stream",
     "text": [
      "[I 2025-01-05 10:53:42,236] Trial 17 finished with value: 0.6414546027742749 and parameters: {'dropout_rate': 0.1680872552485943, 'num_layers': 3, 'num_nodes': 64, 'lr': 0.001754790337992947}. Best is trial 8 with value: 0.6485189155107188.\n"
     ]
    },
    {
     "name": "stdout",
     "output_type": "stream",
     "text": [
      "Epoch 30/30, Train Loss: 0.3603, Test Loss: 0.3870\n",
      "Train AUC: 0.7294, Test AUC: 0.6415\n",
      "Epoch 5/30, Train Loss: 0.3839, Test Loss: 0.3851\n",
      "Train AUC: 0.6638, Test AUC: 0.6420\n",
      "Epoch 10/30, Train Loss: 0.3760, Test Loss: 0.3833\n",
      "Train AUC: 0.6745, Test AUC: 0.6412\n",
      "Epoch 15/30, Train Loss: 0.3728, Test Loss: 0.3825\n",
      "Train AUC: 0.6817, Test AUC: 0.6469\n",
      "Epoch 20/30, Train Loss: 0.3732, Test Loss: 0.3835\n",
      "Train AUC: 0.6864, Test AUC: 0.6449\n",
      "Epoch 25/30, Train Loss: 0.3703, Test Loss: 0.3845\n",
      "Train AUC: 0.6907, Test AUC: 0.6430\n"
     ]
    },
    {
     "name": "stderr",
     "output_type": "stream",
     "text": [
      "[I 2025-01-05 10:53:58,365] Trial 18 finished with value: 0.6395838587641866 and parameters: {'dropout_rate': 0.39614056990347835, 'num_layers': 4, 'num_nodes': 128, 'lr': 0.0016479047811872823}. Best is trial 8 with value: 0.6485189155107188.\n"
     ]
    },
    {
     "name": "stdout",
     "output_type": "stream",
     "text": [
      "Epoch 30/30, Train Loss: 0.3673, Test Loss: 0.3862\n",
      "Train AUC: 0.6979, Test AUC: 0.6396\n",
      "Epoch 5/30, Train Loss: 0.3771, Test Loss: 0.3869\n",
      "Train AUC: 0.6545, Test AUC: 0.6425\n",
      "Epoch 10/30, Train Loss: 0.3751, Test Loss: 0.3873\n",
      "Train AUC: 0.6626, Test AUC: 0.6403\n",
      "Epoch 15/30, Train Loss: 0.3762, Test Loss: 0.3876\n",
      "Train AUC: 0.6679, Test AUC: 0.6404\n",
      "Epoch 20/30, Train Loss: 0.3750, Test Loss: 0.3903\n",
      "Train AUC: 0.6718, Test AUC: 0.6403\n",
      "Epoch 25/30, Train Loss: 0.3739, Test Loss: 0.3932\n",
      "Train AUC: 0.6737, Test AUC: 0.6441\n"
     ]
    },
    {
     "name": "stderr",
     "output_type": "stream",
     "text": [
      "[I 2025-01-05 10:54:13,234] Trial 19 finished with value: 0.637858764186633 and parameters: {'dropout_rate': 0.2668544099150828, 'num_layers': 5, 'num_nodes': 64, 'lr': 0.03344577220473128}. Best is trial 8 with value: 0.6485189155107188.\n"
     ]
    },
    {
     "name": "stdout",
     "output_type": "stream",
     "text": [
      "Epoch 30/30, Train Loss: 0.3744, Test Loss: 0.3887\n",
      "Train AUC: 0.6748, Test AUC: 0.6379\n",
      "Epoch 5/30, Train Loss: 0.3751, Test Loss: 0.3846\n",
      "Train AUC: 0.6650, Test AUC: 0.6407\n",
      "Epoch 10/30, Train Loss: 0.3749, Test Loss: 0.3838\n",
      "Train AUC: 0.6654, Test AUC: 0.6460\n",
      "Epoch 15/30, Train Loss: 0.3722, Test Loss: 0.3888\n",
      "Train AUC: 0.6705, Test AUC: 0.6441\n",
      "Epoch 20/30, Train Loss: 0.3727, Test Loss: 0.4017\n",
      "Train AUC: 0.6732, Test AUC: 0.6454\n",
      "Epoch 25/30, Train Loss: 0.3734, Test Loss: 0.3852\n",
      "Train AUC: 0.6753, Test AUC: 0.6459\n"
     ]
    },
    {
     "name": "stderr",
     "output_type": "stream",
     "text": [
      "[I 2025-01-05 10:54:21,958] Trial 20 finished with value: 0.6453871374527111 and parameters: {'dropout_rate': 0.3708372198242633, 'num_layers': 2, 'num_nodes': 64, 'lr': 0.017718022325848133}. Best is trial 8 with value: 0.6485189155107188.\n"
     ]
    },
    {
     "name": "stdout",
     "output_type": "stream",
     "text": [
      "Epoch 30/30, Train Loss: 0.3711, Test Loss: 0.3897\n",
      "Train AUC: 0.6770, Test AUC: 0.6454\n",
      "Epoch 5/30, Train Loss: 0.3754, Test Loss: 0.3843\n",
      "Train AUC: 0.6639, Test AUC: 0.6486\n",
      "Epoch 10/30, Train Loss: 0.3744, Test Loss: 0.3842\n",
      "Train AUC: 0.6673, Test AUC: 0.6431\n",
      "Epoch 15/30, Train Loss: 0.3743, Test Loss: 0.3863\n",
      "Train AUC: 0.6666, Test AUC: 0.6410\n",
      "Epoch 20/30, Train Loss: 0.3729, Test Loss: 0.3849\n",
      "Train AUC: 0.6691, Test AUC: 0.6434\n",
      "Epoch 25/30, Train Loss: 0.3716, Test Loss: 0.3859\n",
      "Train AUC: 0.6718, Test AUC: 0.6491\n"
     ]
    },
    {
     "name": "stderr",
     "output_type": "stream",
     "text": [
      "[I 2025-01-05 10:54:31,413] Trial 21 finished with value: 0.644139344262295 and parameters: {'dropout_rate': 0.37492884973537915, 'num_layers': 2, 'num_nodes': 64, 'lr': 0.020640435396813983}. Best is trial 8 with value: 0.6485189155107188.\n"
     ]
    },
    {
     "name": "stdout",
     "output_type": "stream",
     "text": [
      "Epoch 30/30, Train Loss: 0.3721, Test Loss: 0.3839\n",
      "Train AUC: 0.6719, Test AUC: 0.6441\n",
      "Epoch 5/30, Train Loss: 0.3764, Test Loss: 0.3840\n",
      "Train AUC: 0.6714, Test AUC: 0.6410\n",
      "Epoch 10/30, Train Loss: 0.3733, Test Loss: 0.3825\n",
      "Train AUC: 0.6745, Test AUC: 0.6458\n",
      "Epoch 15/30, Train Loss: 0.3721, Test Loss: 0.3844\n",
      "Train AUC: 0.6802, Test AUC: 0.6434\n",
      "Epoch 20/30, Train Loss: 0.3698, Test Loss: 0.3862\n",
      "Train AUC: 0.6826, Test AUC: 0.6377\n",
      "Epoch 25/30, Train Loss: 0.3692, Test Loss: 0.3862\n",
      "Train AUC: 0.6844, Test AUC: 0.6334\n"
     ]
    },
    {
     "name": "stderr",
     "output_type": "stream",
     "text": [
      "[I 2025-01-05 10:54:40,455] Trial 22 finished with value: 0.6454791929382093 and parameters: {'dropout_rate': 0.3941252271890305, 'num_layers': 2, 'num_nodes': 64, 'lr': 0.0038650468542129213}. Best is trial 8 with value: 0.6485189155107188.\n"
     ]
    },
    {
     "name": "stdout",
     "output_type": "stream",
     "text": [
      "Epoch 30/30, Train Loss: 0.3697, Test Loss: 0.3843\n",
      "Train AUC: 0.6840, Test AUC: 0.6455\n",
      "Epoch 5/30, Train Loss: 0.3750, Test Loss: 0.3844\n",
      "Train AUC: 0.6784, Test AUC: 0.6414\n",
      "Epoch 10/30, Train Loss: 0.3701, Test Loss: 0.3858\n",
      "Train AUC: 0.6892, Test AUC: 0.6456\n",
      "Epoch 15/30, Train Loss: 0.3665, Test Loss: 0.3899\n",
      "Train AUC: 0.6996, Test AUC: 0.6450\n",
      "Epoch 20/30, Train Loss: 0.3659, Test Loss: 0.3844\n",
      "Train AUC: 0.7010, Test AUC: 0.6488\n",
      "Epoch 25/30, Train Loss: 0.3638, Test Loss: 0.3884\n",
      "Train AUC: 0.7159, Test AUC: 0.6392\n"
     ]
    },
    {
     "name": "stderr",
     "output_type": "stream",
     "text": [
      "[I 2025-01-05 10:54:51,664] Trial 23 finished with value: 0.6367931904161412 and parameters: {'dropout_rate': 0.14798601956566462, 'num_layers': 3, 'num_nodes': 64, 'lr': 0.0036961951694816446}. Best is trial 8 with value: 0.6485189155107188.\n"
     ]
    },
    {
     "name": "stdout",
     "output_type": "stream",
     "text": [
      "Epoch 30/30, Train Loss: 0.3616, Test Loss: 0.3902\n",
      "Train AUC: 0.7141, Test AUC: 0.6368\n",
      "Epoch 5/30, Train Loss: 0.4004, Test Loss: 0.3886\n",
      "Train AUC: 0.6660, Test AUC: 0.6245\n",
      "Epoch 10/30, Train Loss: 0.3836, Test Loss: 0.3865\n",
      "Train AUC: 0.6844, Test AUC: 0.6383\n",
      "Epoch 15/30, Train Loss: 0.3771, Test Loss: 0.3862\n",
      "Train AUC: 0.6902, Test AUC: 0.6415\n",
      "Epoch 20/30, Train Loss: 0.3749, Test Loss: 0.3875\n",
      "Train AUC: 0.6940, Test AUC: 0.6346\n",
      "Epoch 25/30, Train Loss: 0.3714, Test Loss: 0.3891\n",
      "Train AUC: 0.6989, Test AUC: 0.6350\n"
     ]
    },
    {
     "name": "stderr",
     "output_type": "stream",
     "text": [
      "[I 2025-01-05 10:55:01,334] Trial 24 finished with value: 0.6448638083228246 and parameters: {'dropout_rate': 0.28070974334288434, 'num_layers': 2, 'num_nodes': 64, 'lr': 0.0004798799781558715}. Best is trial 8 with value: 0.6485189155107188.\n"
     ]
    },
    {
     "name": "stdout",
     "output_type": "stream",
     "text": [
      "Epoch 30/30, Train Loss: 0.3692, Test Loss: 0.3864\n",
      "Train AUC: 0.7024, Test AUC: 0.6449\n",
      "Epoch 5/30, Train Loss: 0.3755, Test Loss: 0.3858\n",
      "Train AUC: 0.6709, Test AUC: 0.6408\n",
      "Epoch 10/30, Train Loss: 0.3716, Test Loss: 0.3879\n",
      "Train AUC: 0.6808, Test AUC: 0.6457\n",
      "Epoch 15/30, Train Loss: 0.3688, Test Loss: 0.3898\n",
      "Train AUC: 0.6870, Test AUC: 0.6360\n",
      "Epoch 20/30, Train Loss: 0.3679, Test Loss: 0.3860\n",
      "Train AUC: 0.6893, Test AUC: 0.6406\n",
      "Epoch 25/30, Train Loss: 0.3684, Test Loss: 0.3883\n",
      "Train AUC: 0.6914, Test AUC: 0.6384\n"
     ]
    },
    {
     "name": "stderr",
     "output_type": "stream",
     "text": [
      "[I 2025-01-05 10:55:12,133] Trial 25 finished with value: 0.6280807061790669 and parameters: {'dropout_rate': 0.18897949234022832, 'num_layers': 3, 'num_nodes': 64, 'lr': 0.003958605212381258}. Best is trial 8 with value: 0.6485189155107188.\n"
     ]
    },
    {
     "name": "stdout",
     "output_type": "stream",
     "text": [
      "Epoch 30/30, Train Loss: 0.3660, Test Loss: 0.3882\n",
      "Train AUC: 0.7005, Test AUC: 0.6281\n",
      "Epoch 5/30, Train Loss: 0.3794, Test Loss: 0.4689\n",
      "Train AUC: 0.6611, Test AUC: 0.6469\n",
      "Epoch 10/30, Train Loss: 0.3805, Test Loss: 0.4670\n",
      "Train AUC: 0.6645, Test AUC: 0.6401\n",
      "Epoch 15/30, Train Loss: 0.3793, Test Loss: 3.2081\n",
      "Train AUC: 0.6615, Test AUC: 0.6395\n",
      "Epoch 20/30, Train Loss: 0.3821, Test Loss: 0.4057\n",
      "Train AUC: 0.6206, Test AUC: 0.5958\n",
      "Epoch 25/30, Train Loss: 0.3804, Test Loss: 0.7181\n",
      "Train AUC: 0.6639, Test AUC: 0.6416\n"
     ]
    },
    {
     "name": "stderr",
     "output_type": "stream",
     "text": [
      "[I 2025-01-05 10:55:28,159] Trial 26 finished with value: 0.6462919293820932 and parameters: {'dropout_rate': 0.13625065092166183, 'num_layers': 4, 'num_nodes': 128, 'lr': 0.09142987392119026}. Best is trial 8 with value: 0.6485189155107188.\n"
     ]
    },
    {
     "name": "stdout",
     "output_type": "stream",
     "text": [
      "Epoch 30/30, Train Loss: 0.3842, Test Loss: 0.3842\n",
      "Train AUC: 0.6698, Test AUC: 0.6463\n",
      "Epoch 5/30, Train Loss: 0.3809, Test Loss: 0.4410\n",
      "Train AUC: 0.6525, Test AUC: 0.6316\n",
      "Epoch 10/30, Train Loss: 0.3782, Test Loss: 0.4381\n",
      "Train AUC: 0.6683, Test AUC: 0.6463\n",
      "Epoch 15/30, Train Loss: 0.3850, Test Loss: 0.4386\n",
      "Train AUC: 0.6594, Test AUC: 0.6411\n",
      "Epoch 20/30, Train Loss: 0.3850, Test Loss: 0.4386\n",
      "Train AUC: 0.6664, Test AUC: 0.6403\n",
      "Epoch 25/30, Train Loss: 0.3793, Test Loss: 0.4967\n",
      "Train AUC: 0.6753, Test AUC: 0.6457\n"
     ]
    },
    {
     "name": "stderr",
     "output_type": "stream",
     "text": [
      "[I 2025-01-05 10:55:44,066] Trial 27 finished with value: 0.61743789407314 and parameters: {'dropout_rate': 0.13958350091465288, 'num_layers': 4, 'num_nodes': 128, 'lr': 0.09229402707749088}. Best is trial 8 with value: 0.6485189155107188.\n"
     ]
    },
    {
     "name": "stdout",
     "output_type": "stream",
     "text": [
      "Epoch 30/30, Train Loss: 0.4638, Test Loss: 0.9526\n",
      "Train AUC: 0.6412, Test AUC: 0.6174\n",
      "Epoch 5/30, Train Loss: 0.3746, Test Loss: 0.3890\n",
      "Train AUC: 0.6658, Test AUC: 0.6393\n",
      "Epoch 10/30, Train Loss: 0.3726, Test Loss: 0.3890\n",
      "Train AUC: 0.6689, Test AUC: 0.6394\n",
      "Epoch 15/30, Train Loss: 0.3730, Test Loss: 0.3855\n",
      "Train AUC: 0.6754, Test AUC: 0.6394\n",
      "Epoch 20/30, Train Loss: 0.3727, Test Loss: 0.4176\n",
      "Train AUC: 0.6715, Test AUC: 0.6470\n",
      "Epoch 25/30, Train Loss: 0.3722, Test Loss: 0.4103\n",
      "Train AUC: 0.6773, Test AUC: 0.6415\n"
     ]
    },
    {
     "name": "stderr",
     "output_type": "stream",
     "text": [
      "[I 2025-01-05 10:56:00,783] Trial 28 finished with value: 0.6474495586380833 and parameters: {'dropout_rate': 0.13277350502532453, 'num_layers': 4, 'num_nodes': 128, 'lr': 0.03075458080056672}. Best is trial 8 with value: 0.6485189155107188.\n"
     ]
    },
    {
     "name": "stdout",
     "output_type": "stream",
     "text": [
      "Epoch 30/30, Train Loss: 0.3715, Test Loss: 0.4887\n",
      "Train AUC: 0.6802, Test AUC: 0.6474\n",
      "Epoch 5/30, Train Loss: 0.3745, Test Loss: 0.3840\n",
      "Train AUC: 0.6628, Test AUC: 0.6396\n",
      "Epoch 10/30, Train Loss: 0.3735, Test Loss: 0.3882\n",
      "Train AUC: 0.6772, Test AUC: 0.6374\n",
      "Epoch 15/30, Train Loss: 0.3709, Test Loss: 0.3914\n",
      "Train AUC: 0.6759, Test AUC: 0.6400\n",
      "Epoch 20/30, Train Loss: 0.3723, Test Loss: 0.4679\n",
      "Train AUC: 0.6780, Test AUC: 0.6400\n",
      "Epoch 25/30, Train Loss: 0.3730, Test Loss: 0.5124\n",
      "Train AUC: 0.6718, Test AUC: 0.6313\n"
     ]
    },
    {
     "name": "stderr",
     "output_type": "stream",
     "text": [
      "[I 2025-01-05 10:56:16,690] Trial 29 finished with value: 0.6378843001261033 and parameters: {'dropout_rate': 0.20084037919934725, 'num_layers': 4, 'num_nodes': 128, 'lr': 0.029477998683657324}. Best is trial 8 with value: 0.6485189155107188.\n"
     ]
    },
    {
     "name": "stdout",
     "output_type": "stream",
     "text": [
      "Epoch 30/30, Train Loss: 0.3728, Test Loss: 0.5167\n",
      "Train AUC: 0.6799, Test AUC: 0.6379\n",
      "Epoch 5/30, Train Loss: 0.3758, Test Loss: 0.3855\n",
      "Train AUC: 0.6644, Test AUC: 0.6475\n",
      "Epoch 10/30, Train Loss: 0.3704, Test Loss: 0.3849\n",
      "Train AUC: 0.6741, Test AUC: 0.6395\n",
      "Epoch 15/30, Train Loss: 0.3701, Test Loss: 0.3860\n",
      "Train AUC: 0.6801, Test AUC: 0.6346\n",
      "Epoch 20/30, Train Loss: 0.3677, Test Loss: 0.3842\n",
      "Train AUC: 0.6882, Test AUC: 0.6461\n",
      "Epoch 25/30, Train Loss: 0.3680, Test Loss: 0.3854\n",
      "Train AUC: 0.6920, Test AUC: 0.6427\n"
     ]
    },
    {
     "name": "stderr",
     "output_type": "stream",
     "text": [
      "[I 2025-01-05 10:56:36,405] Trial 30 finished with value: 0.640828184110971 and parameters: {'dropout_rate': 0.18123409217548367, 'num_layers': 5, 'num_nodes': 128, 'lr': 0.010945891913666411}. Best is trial 8 with value: 0.6485189155107188.\n"
     ]
    },
    {
     "name": "stdout",
     "output_type": "stream",
     "text": [
      "Epoch 30/30, Train Loss: 0.3665, Test Loss: 0.3884\n",
      "Train AUC: 0.6978, Test AUC: 0.6408\n",
      "Epoch 5/30, Train Loss: 0.3750, Test Loss: 0.3930\n",
      "Train AUC: 0.6556, Test AUC: 0.6357\n",
      "Epoch 10/30, Train Loss: 0.3762, Test Loss: 0.3835\n",
      "Train AUC: 0.6647, Test AUC: 0.6442\n",
      "Epoch 15/30, Train Loss: 0.3764, Test Loss: 0.3830\n",
      "Train AUC: 0.6618, Test AUC: 0.6501\n",
      "Epoch 20/30, Train Loss: 0.3780, Test Loss: 0.4126\n",
      "Train AUC: 0.6635, Test AUC: 0.6364\n",
      "Epoch 25/30, Train Loss: 0.3728, Test Loss: 0.4462\n",
      "Train AUC: 0.6758, Test AUC: 0.6355\n"
     ]
    },
    {
     "name": "stderr",
     "output_type": "stream",
     "text": [
      "[I 2025-01-05 10:56:52,256] Trial 31 finished with value: 0.6376034047919292 and parameters: {'dropout_rate': 0.13358515452030106, 'num_layers': 4, 'num_nodes': 128, 'lr': 0.05173094689442046}. Best is trial 8 with value: 0.6485189155107188.\n"
     ]
    },
    {
     "name": "stdout",
     "output_type": "stream",
     "text": [
      "Epoch 30/30, Train Loss: 0.3745, Test Loss: 0.3889\n",
      "Train AUC: 0.6863, Test AUC: 0.6376\n",
      "Epoch 5/30, Train Loss: 0.3733, Test Loss: 0.3870\n",
      "Train AUC: 0.6688, Test AUC: 0.6298\n",
      "Epoch 10/30, Train Loss: 0.3721, Test Loss: 0.3890\n",
      "Train AUC: 0.6758, Test AUC: 0.6413\n",
      "Epoch 15/30, Train Loss: 0.3720, Test Loss: 0.5780\n",
      "Train AUC: 0.6788, Test AUC: 0.6392\n",
      "Epoch 20/30, Train Loss: 0.3723, Test Loss: 0.3863\n",
      "Train AUC: 0.6652, Test AUC: 0.6280\n",
      "Epoch 25/30, Train Loss: 0.3757, Test Loss: 0.4177\n",
      "Train AUC: 0.6766, Test AUC: 0.6449\n"
     ]
    },
    {
     "name": "stderr",
     "output_type": "stream",
     "text": [
      "[I 2025-01-05 10:57:07,888] Trial 32 finished with value: 0.6398947036569986 and parameters: {'dropout_rate': 0.1250531386829282, 'num_layers': 4, 'num_nodes': 128, 'lr': 0.031824539726467434}. Best is trial 8 with value: 0.6485189155107188.\n"
     ]
    },
    {
     "name": "stdout",
     "output_type": "stream",
     "text": [
      "Epoch 30/30, Train Loss: 0.3708, Test Loss: 0.3870\n",
      "Train AUC: 0.6841, Test AUC: 0.6399\n",
      "Epoch 5/30, Train Loss: 0.3793, Test Loss: 0.3874\n",
      "Train AUC: 0.6626, Test AUC: 0.6391\n",
      "Epoch 10/30, Train Loss: 0.3800, Test Loss: 0.4853\n",
      "Train AUC: 0.6582, Test AUC: 0.6365\n",
      "Epoch 15/30, Train Loss: 0.3819, Test Loss: 0.4709\n",
      "Train AUC: 0.6625, Test AUC: 0.6363\n",
      "Epoch 20/30, Train Loss: 0.3843, Test Loss: 0.5452\n",
      "Train AUC: 0.6453, Test AUC: 0.6232\n",
      "Epoch 25/30, Train Loss: 0.3858, Test Loss: 0.6426\n",
      "Train AUC: 0.6588, Test AUC: 0.6332\n"
     ]
    },
    {
     "name": "stderr",
     "output_type": "stream",
     "text": [
      "[I 2025-01-05 10:57:23,345] Trial 33 finished with value: 0.6256204287515763 and parameters: {'dropout_rate': 0.1011646704613271, 'num_layers': 4, 'num_nodes': 128, 'lr': 0.09321914250822112}. Best is trial 8 with value: 0.6485189155107188.\n"
     ]
    },
    {
     "name": "stdout",
     "output_type": "stream",
     "text": [
      "Epoch 30/30, Train Loss: 0.3871, Test Loss: 0.6581\n",
      "Train AUC: 0.6520, Test AUC: 0.6256\n",
      "Epoch 5/30, Train Loss: 0.3754, Test Loss: 0.3870\n",
      "Train AUC: 0.6622, Test AUC: 0.6379\n",
      "Epoch 10/30, Train Loss: 0.3711, Test Loss: 0.3861\n",
      "Train AUC: 0.6713, Test AUC: 0.6423\n",
      "Epoch 15/30, Train Loss: 0.3696, Test Loss: 0.3875\n",
      "Train AUC: 0.6815, Test AUC: 0.6429\n",
      "Epoch 20/30, Train Loss: 0.3692, Test Loss: 0.4097\n",
      "Train AUC: 0.6881, Test AUC: 0.6476\n",
      "Epoch 25/30, Train Loss: 0.3672, Test Loss: 0.4130\n",
      "Train AUC: 0.6958, Test AUC: 0.6412\n"
     ]
    },
    {
     "name": "stderr",
     "output_type": "stream",
     "text": [
      "[I 2025-01-05 10:57:41,367] Trial 34 finished with value: 0.6334451450189155 and parameters: {'dropout_rate': 0.13029532300687038, 'num_layers': 5, 'num_nodes': 128, 'lr': 0.0151873929468867}. Best is trial 8 with value: 0.6485189155107188.\n"
     ]
    },
    {
     "name": "stdout",
     "output_type": "stream",
     "text": [
      "Epoch 30/30, Train Loss: 0.3658, Test Loss: 0.4143\n",
      "Train AUC: 0.6976, Test AUC: 0.6334\n",
      "Epoch 5/30, Train Loss: 0.3749, Test Loss: 0.3861\n",
      "Train AUC: 0.6647, Test AUC: 0.6390\n",
      "Epoch 10/30, Train Loss: 0.3738, Test Loss: 0.3879\n",
      "Train AUC: 0.6732, Test AUC: 0.6398\n",
      "Epoch 15/30, Train Loss: 0.3747, Test Loss: 0.3885\n",
      "Train AUC: 0.6749, Test AUC: 0.6442\n",
      "Epoch 20/30, Train Loss: 0.3731, Test Loss: 0.3839\n",
      "Train AUC: 0.6759, Test AUC: 0.6458\n",
      "Epoch 25/30, Train Loss: 0.3747, Test Loss: 0.3886\n",
      "Train AUC: 0.6787, Test AUC: 0.6427\n"
     ]
    },
    {
     "name": "stderr",
     "output_type": "stream",
     "text": [
      "[I 2025-01-05 10:57:58,684] Trial 35 finished with value: 0.6349981084489281 and parameters: {'dropout_rate': 0.23181418506750023, 'num_layers': 4, 'num_nodes': 128, 'lr': 0.030363928001730125}. Best is trial 8 with value: 0.6485189155107188.\n"
     ]
    },
    {
     "name": "stdout",
     "output_type": "stream",
     "text": [
      "Epoch 30/30, Train Loss: 0.3705, Test Loss: 0.3908\n",
      "Train AUC: 0.6803, Test AUC: 0.6350\n",
      "Epoch 5/30, Train Loss: 0.3740, Test Loss: 0.3864\n",
      "Train AUC: 0.6618, Test AUC: 0.6354\n",
      "Epoch 10/30, Train Loss: 0.3741, Test Loss: 0.4152\n",
      "Train AUC: 0.6637, Test AUC: 0.6346\n",
      "Epoch 15/30, Train Loss: 0.3752, Test Loss: 0.3872\n",
      "Train AUC: 0.6659, Test AUC: 0.6410\n",
      "Epoch 20/30, Train Loss: 0.3775, Test Loss: 0.4179\n",
      "Train AUC: 0.6650, Test AUC: 0.6380\n",
      "Epoch 25/30, Train Loss: 0.3755, Test Loss: 0.4444\n",
      "Train AUC: 0.6726, Test AUC: 0.6411\n"
     ]
    },
    {
     "name": "stderr",
     "output_type": "stream",
     "text": [
      "[I 2025-01-05 10:58:13,724] Trial 36 finished with value: 0.6402900378310215 and parameters: {'dropout_rate': 0.15170652109416108, 'num_layers': 3, 'num_nodes': 128, 'lr': 0.053138104614354066}. Best is trial 8 with value: 0.6485189155107188.\n"
     ]
    },
    {
     "name": "stdout",
     "output_type": "stream",
     "text": [
      "Epoch 30/30, Train Loss: 0.3747, Test Loss: 0.4276\n",
      "Train AUC: 0.6726, Test AUC: 0.6403\n",
      "Epoch 5/30, Train Loss: 0.3742, Test Loss: 0.3927\n",
      "Train AUC: 0.6602, Test AUC: 0.6190\n",
      "Epoch 10/30, Train Loss: 0.3724, Test Loss: 0.3871\n",
      "Train AUC: 0.6820, Test AUC: 0.6304\n",
      "Epoch 15/30, Train Loss: 0.3682, Test Loss: 0.3885\n",
      "Train AUC: 0.6973, Test AUC: 0.6340\n",
      "Epoch 20/30, Train Loss: 0.3680, Test Loss: 0.3914\n",
      "Train AUC: 0.7023, Test AUC: 0.6439\n",
      "Epoch 25/30, Train Loss: 0.3650, Test Loss: 0.3921\n",
      "Train AUC: 0.7106, Test AUC: 0.6361\n"
     ]
    },
    {
     "name": "stderr",
     "output_type": "stream",
     "text": [
      "[I 2025-01-05 10:58:31,508] Trial 37 finished with value: 0.6436822194199243 and parameters: {'dropout_rate': 0.1747073009163805, 'num_layers': 4, 'num_nodes': 128, 'lr': 0.004901789559407257}. Best is trial 8 with value: 0.6485189155107188.\n"
     ]
    },
    {
     "name": "stdout",
     "output_type": "stream",
     "text": [
      "Epoch 30/30, Train Loss: 0.3627, Test Loss: 0.3886\n",
      "Train AUC: 0.7132, Test AUC: 0.6437\n",
      "Epoch 5/30, Train Loss: 0.3877, Test Loss: 0.4679\n",
      "Train AUC: 0.6541, Test AUC: 0.6266\n",
      "Epoch 10/30, Train Loss: 0.3870, Test Loss: 0.5599\n",
      "Train AUC: 0.6508, Test AUC: 0.6235\n",
      "Epoch 15/30, Train Loss: 0.3799, Test Loss: 0.4406\n",
      "Train AUC: 0.6700, Test AUC: 0.6406\n",
      "Epoch 20/30, Train Loss: 0.3802, Test Loss: 0.3854\n",
      "Train AUC: 0.6661, Test AUC: 0.6462\n",
      "Epoch 25/30, Train Loss: 0.3948, Test Loss: 0.4081\n",
      "Train AUC: 0.6618, Test AUC: 0.6376\n"
     ]
    },
    {
     "name": "stderr",
     "output_type": "stream",
     "text": [
      "[I 2025-01-05 10:58:51,850] Trial 38 finished with value: 0.634952395964691 and parameters: {'dropout_rate': 0.20794176884747995, 'num_layers': 5, 'num_nodes': 128, 'lr': 0.09192137306758315}. Best is trial 8 with value: 0.6485189155107188.\n"
     ]
    },
    {
     "name": "stdout",
     "output_type": "stream",
     "text": [
      "Epoch 30/30, Train Loss: 0.3928, Test Loss: 0.3880\n",
      "Train AUC: 0.6601, Test AUC: 0.6350\n",
      "Epoch 5/30, Train Loss: 0.3748, Test Loss: 0.3850\n",
      "Train AUC: 0.6764, Test AUC: 0.6451\n",
      "Epoch 10/30, Train Loss: 0.3726, Test Loss: 0.3842\n",
      "Train AUC: 0.6807, Test AUC: 0.6391\n",
      "Epoch 15/30, Train Loss: 0.3680, Test Loss: 0.3865\n",
      "Train AUC: 0.6806, Test AUC: 0.6381\n",
      "Epoch 20/30, Train Loss: 0.3680, Test Loss: 0.3887\n",
      "Train AUC: 0.6910, Test AUC: 0.6381\n",
      "Epoch 25/30, Train Loss: 0.3654, Test Loss: 0.3891\n",
      "Train AUC: 0.7046, Test AUC: 0.6299\n"
     ]
    },
    {
     "name": "stderr",
     "output_type": "stream",
     "text": [
      "[I 2025-01-05 10:59:09,440] Trial 39 finished with value: 0.6285189155107188 and parameters: {'dropout_rate': 0.12170086741215023, 'num_layers': 4, 'num_nodes': 128, 'lr': 0.01222903962736606}. Best is trial 8 with value: 0.6485189155107188.\n"
     ]
    },
    {
     "name": "stdout",
     "output_type": "stream",
     "text": [
      "Epoch 30/30, Train Loss: 0.3647, Test Loss: 0.3894\n",
      "Train AUC: 0.7123, Test AUC: 0.6285\n",
      "Epoch 5/30, Train Loss: 0.3767, Test Loss: 0.3943\n",
      "Train AUC: 0.6653, Test AUC: 0.6367\n",
      "Epoch 10/30, Train Loss: 0.3738, Test Loss: 0.3886\n",
      "Train AUC: 0.6725, Test AUC: 0.6408\n",
      "Epoch 15/30, Train Loss: 0.3731, Test Loss: 0.3878\n",
      "Train AUC: 0.6739, Test AUC: 0.6447\n",
      "Epoch 20/30, Train Loss: 0.3741, Test Loss: 0.4148\n",
      "Train AUC: 0.6791, Test AUC: 0.6459\n",
      "Epoch 25/30, Train Loss: 0.3738, Test Loss: 0.4139\n",
      "Train AUC: 0.6747, Test AUC: 0.6450\n"
     ]
    },
    {
     "name": "stderr",
     "output_type": "stream",
     "text": [
      "[I 2025-01-05 10:59:24,255] Trial 40 finished with value: 0.6415381462799494 and parameters: {'dropout_rate': 0.30856190595143007, 'num_layers': 3, 'num_nodes': 128, 'lr': 0.02411312245218345}. Best is trial 8 with value: 0.6485189155107188.\n"
     ]
    },
    {
     "name": "stdout",
     "output_type": "stream",
     "text": [
      "Epoch 30/30, Train Loss: 0.3709, Test Loss: 0.4188\n",
      "Train AUC: 0.6800, Test AUC: 0.6415\n",
      "Epoch 5/30, Train Loss: 0.6981, Test Loss: 0.6134\n",
      "Train AUC: 0.5573, Test AUC: 0.5381\n",
      "Epoch 10/30, Train Loss: 0.6805, Test Loss: 0.6087\n",
      "Train AUC: 0.5793, Test AUC: 0.5564\n",
      "Epoch 15/30, Train Loss: 0.6663, Test Loss: 0.5976\n",
      "Train AUC: 0.5977, Test AUC: 0.5747\n",
      "Epoch 20/30, Train Loss: 0.6531, Test Loss: 0.5867\n",
      "Train AUC: 0.6041, Test AUC: 0.5830\n",
      "Epoch 25/30, Train Loss: 0.6390, Test Loss: 0.5818\n",
      "Train AUC: 0.6094, Test AUC: 0.5878\n"
     ]
    },
    {
     "name": "stderr",
     "output_type": "stream",
     "text": [
      "[I 2025-01-05 10:59:34,642] Trial 41 finished with value: 0.5980100882723833 and parameters: {'dropout_rate': 0.48556660762597786, 'num_layers': 2, 'num_nodes': 64, 'lr': 1.3381711786482076e-05}. Best is trial 8 with value: 0.6485189155107188.\n"
     ]
    },
    {
     "name": "stdout",
     "output_type": "stream",
     "text": [
      "Epoch 30/30, Train Loss: 0.6241, Test Loss: 0.5630\n",
      "Train AUC: 0.6170, Test AUC: 0.5980\n",
      "Epoch 5/30, Train Loss: 0.3810, Test Loss: 0.3848\n",
      "Train AUC: 0.6688, Test AUC: 0.6386\n",
      "Epoch 10/30, Train Loss: 0.3753, Test Loss: 0.3848\n",
      "Train AUC: 0.6777, Test AUC: 0.6391\n",
      "Epoch 15/30, Train Loss: 0.3721, Test Loss: 0.3841\n",
      "Train AUC: 0.6792, Test AUC: 0.6435\n",
      "Epoch 20/30, Train Loss: 0.3707, Test Loss: 0.3838\n",
      "Train AUC: 0.6823, Test AUC: 0.6422\n",
      "Epoch 25/30, Train Loss: 0.3706, Test Loss: 0.3825\n",
      "Train AUC: 0.6858, Test AUC: 0.6473\n"
     ]
    },
    {
     "name": "stderr",
     "output_type": "stream",
     "text": [
      "[I 2025-01-05 10:59:44,456] Trial 42 finished with value: 0.6445163934426229 and parameters: {'dropout_rate': 0.4340570148485733, 'num_layers': 2, 'num_nodes': 64, 'lr': 0.0021026284633769163}. Best is trial 8 with value: 0.6485189155107188.\n"
     ]
    },
    {
     "name": "stdout",
     "output_type": "stream",
     "text": [
      "Epoch 30/30, Train Loss: 0.3700, Test Loss: 0.3828\n",
      "Train AUC: 0.6872, Test AUC: 0.6445\n",
      "Epoch 5/30, Train Loss: 0.3761, Test Loss: 0.3875\n",
      "Train AUC: 0.6666, Test AUC: 0.6335\n",
      "Epoch 10/30, Train Loss: 0.3722, Test Loss: 0.3833\n",
      "Train AUC: 0.6738, Test AUC: 0.6429\n",
      "Epoch 15/30, Train Loss: 0.3705, Test Loss: 0.3896\n",
      "Train AUC: 0.6746, Test AUC: 0.6333\n",
      "Epoch 20/30, Train Loss: 0.3711, Test Loss: 0.3913\n",
      "Train AUC: 0.6773, Test AUC: 0.6411\n",
      "Epoch 25/30, Train Loss: 0.3699, Test Loss: 0.3857\n",
      "Train AUC: 0.6794, Test AUC: 0.6414\n"
     ]
    },
    {
     "name": "stderr",
     "output_type": "stream",
     "text": [
      "[I 2025-01-05 10:59:56,860] Trial 43 finished with value: 0.6471286254728877 and parameters: {'dropout_rate': 0.34046953865770524, 'num_layers': 3, 'num_nodes': 64, 'lr': 0.005264999743716716}. Best is trial 8 with value: 0.6485189155107188.\n"
     ]
    },
    {
     "name": "stdout",
     "output_type": "stream",
     "text": [
      "Epoch 30/30, Train Loss: 0.3694, Test Loss: 0.3861\n",
      "Train AUC: 0.6840, Test AUC: 0.6471\n",
      "Epoch 5/30, Train Loss: 0.3781, Test Loss: 0.3917\n",
      "Train AUC: 0.6577, Test AUC: 0.6369\n",
      "Epoch 10/30, Train Loss: 0.3788, Test Loss: 0.3864\n",
      "Train AUC: 0.6621, Test AUC: 0.6431\n",
      "Epoch 15/30, Train Loss: 0.3797, Test Loss: 0.3852\n",
      "Train AUC: 0.6664, Test AUC: 0.6505\n",
      "Epoch 20/30, Train Loss: 0.3793, Test Loss: 0.4970\n",
      "Train AUC: 0.6668, Test AUC: 0.6275\n",
      "Epoch 25/30, Train Loss: 0.3784, Test Loss: 0.4396\n",
      "Train AUC: 0.6660, Test AUC: 0.6425\n"
     ]
    },
    {
     "name": "stderr",
     "output_type": "stream",
     "text": [
      "[I 2025-01-05 11:00:09,306] Trial 44 finished with value: 0.6489025851197983 and parameters: {'dropout_rate': 0.3404588595752581, 'num_layers': 3, 'num_nodes': 64, 'lr': 0.05120922169075298}. Best is trial 44 with value: 0.6489025851197983.\n"
     ]
    },
    {
     "name": "stdout",
     "output_type": "stream",
     "text": [
      "Epoch 30/30, Train Loss: 0.3758, Test Loss: 0.4660\n",
      "Train AUC: 0.6726, Test AUC: 0.6489\n",
      "Epoch 5/30, Train Loss: 0.3762, Test Loss: 0.3826\n",
      "Train AUC: 0.6619, Test AUC: 0.6471\n",
      "Epoch 10/30, Train Loss: 0.3728, Test Loss: 0.3829\n",
      "Train AUC: 0.6687, Test AUC: 0.6471\n",
      "Epoch 15/30, Train Loss: 0.3714, Test Loss: 0.3837\n",
      "Train AUC: 0.6784, Test AUC: 0.6465\n",
      "Epoch 20/30, Train Loss: 0.3709, Test Loss: 0.3848\n",
      "Train AUC: 0.6802, Test AUC: 0.6383\n",
      "Epoch 25/30, Train Loss: 0.3721, Test Loss: 0.3841\n",
      "Train AUC: 0.6803, Test AUC: 0.6434\n"
     ]
    },
    {
     "name": "stderr",
     "output_type": "stream",
     "text": [
      "[I 2025-01-05 11:00:21,882] Trial 45 finished with value: 0.6433524590163934 and parameters: {'dropout_rate': 0.34224764550357345, 'num_layers': 3, 'num_nodes': 64, 'lr': 0.006854435345776916}. Best is trial 44 with value: 0.6489025851197983.\n"
     ]
    },
    {
     "name": "stdout",
     "output_type": "stream",
     "text": [
      "Epoch 30/30, Train Loss: 0.3702, Test Loss: 0.3857\n",
      "Train AUC: 0.6810, Test AUC: 0.6434\n",
      "Epoch 5/30, Train Loss: 0.3933, Test Loss: 0.3848\n",
      "Train AUC: 0.6528, Test AUC: 0.6344\n",
      "Epoch 10/30, Train Loss: 0.3813, Test Loss: 0.3826\n",
      "Train AUC: 0.6698, Test AUC: 0.6457\n",
      "Epoch 15/30, Train Loss: 0.3786, Test Loss: 0.3830\n",
      "Train AUC: 0.6765, Test AUC: 0.6443\n",
      "Epoch 20/30, Train Loss: 0.3737, Test Loss: 0.3829\n",
      "Train AUC: 0.6797, Test AUC: 0.6479\n",
      "Epoch 25/30, Train Loss: 0.3736, Test Loss: 0.3829\n",
      "Train AUC: 0.6856, Test AUC: 0.6470\n"
     ]
    },
    {
     "name": "stderr",
     "output_type": "stream",
     "text": [
      "[I 2025-01-05 11:00:34,843] Trial 46 finished with value: 0.6443070617906683 and parameters: {'dropout_rate': 0.34619697178692227, 'num_layers': 3, 'num_nodes': 64, 'lr': 0.0008161022803750427}. Best is trial 44 with value: 0.6489025851197983.\n"
     ]
    },
    {
     "name": "stdout",
     "output_type": "stream",
     "text": [
      "Epoch 30/30, Train Loss: 0.3702, Test Loss: 0.3836\n",
      "Train AUC: 0.6901, Test AUC: 0.6443\n",
      "Epoch 5/30, Train Loss: 0.3779, Test Loss: 0.3904\n",
      "Train AUC: 0.6632, Test AUC: 0.6432\n",
      "Epoch 10/30, Train Loss: 0.3769, Test Loss: 0.3827\n",
      "Train AUC: 0.6627, Test AUC: 0.6468\n",
      "Epoch 15/30, Train Loss: 0.3774, Test Loss: 0.3860\n",
      "Train AUC: 0.6672, Test AUC: 0.6413\n",
      "Epoch 20/30, Train Loss: 0.3774, Test Loss: 0.3896\n",
      "Train AUC: 0.6608, Test AUC: 0.6375\n",
      "Epoch 25/30, Train Loss: 0.3761, Test Loss: 0.3846\n",
      "Train AUC: 0.6649, Test AUC: 0.6450\n"
     ]
    },
    {
     "name": "stderr",
     "output_type": "stream",
     "text": [
      "[I 2025-01-05 11:00:46,696] Trial 47 finished with value: 0.6386450189155107 and parameters: {'dropout_rate': 0.3226756544751056, 'num_layers': 3, 'num_nodes': 64, 'lr': 0.04359319867639184}. Best is trial 44 with value: 0.6489025851197983.\n"
     ]
    },
    {
     "name": "stdout",
     "output_type": "stream",
     "text": [
      "Epoch 30/30, Train Loss: 0.3776, Test Loss: 0.3847\n",
      "Train AUC: 0.6662, Test AUC: 0.6386\n",
      "Epoch 5/30, Train Loss: 0.3756, Test Loss: 0.3839\n",
      "Train AUC: 0.6650, Test AUC: 0.6444\n",
      "Epoch 10/30, Train Loss: 0.3732, Test Loss: 0.3850\n",
      "Train AUC: 0.6672, Test AUC: 0.6446\n",
      "Epoch 15/30, Train Loss: 0.3722, Test Loss: 0.3874\n",
      "Train AUC: 0.6771, Test AUC: 0.6417\n",
      "Epoch 20/30, Train Loss: 0.3705, Test Loss: 0.3835\n",
      "Train AUC: 0.6776, Test AUC: 0.6419\n",
      "Epoch 25/30, Train Loss: 0.3717, Test Loss: 0.3859\n",
      "Train AUC: 0.6796, Test AUC: 0.6434\n"
     ]
    },
    {
     "name": "stderr",
     "output_type": "stream",
     "text": [
      "[I 2025-01-05 11:00:59,064] Trial 48 finished with value: 0.644983921815889 and parameters: {'dropout_rate': 0.2828945886509322, 'num_layers': 3, 'num_nodes': 64, 'lr': 0.012970635348849069}. Best is trial 44 with value: 0.6489025851197983.\n"
     ]
    },
    {
     "name": "stdout",
     "output_type": "stream",
     "text": [
      "Epoch 30/30, Train Loss: 0.3696, Test Loss: 0.3854\n",
      "Train AUC: 0.6827, Test AUC: 0.6450\n",
      "Epoch 5/30, Train Loss: 0.5228, Test Loss: 0.4798\n",
      "Train AUC: 0.6347, Test AUC: 0.6107\n",
      "Epoch 10/30, Train Loss: 0.4052, Test Loss: 0.3885\n",
      "Train AUC: 0.6493, Test AUC: 0.6220\n",
      "Epoch 15/30, Train Loss: 0.3949, Test Loss: 0.3847\n",
      "Train AUC: 0.6578, Test AUC: 0.6322\n",
      "Epoch 20/30, Train Loss: 0.3900, Test Loss: 0.3841\n",
      "Train AUC: 0.6656, Test AUC: 0.6348\n",
      "Epoch 25/30, Train Loss: 0.3834, Test Loss: 0.3827\n",
      "Train AUC: 0.6699, Test AUC: 0.6421\n"
     ]
    },
    {
     "name": "stderr",
     "output_type": "stream",
     "text": [
      "[I 2025-01-05 11:01:20,244] Trial 49 finished with value: 0.6433656998738967 and parameters: {'dropout_rate': 0.29995158029728025, 'num_layers': 3, 'num_nodes': 64, 'lr': 0.00022869140225450474}. Best is trial 44 with value: 0.6489025851197983.\n"
     ]
    },
    {
     "name": "stdout",
     "output_type": "stream",
     "text": [
      "Epoch 30/30, Train Loss: 0.3806, Test Loss: 0.3829\n",
      "Train AUC: 0.6717, Test AUC: 0.6434\n",
      "Best trial :\n",
      " value :  0.6489025851197983\n",
      " Params: \n",
      "   dropout_rate: 0.3404588595752581\n",
      "   num_layers: 3\n",
      "   num_nodes: 64\n",
      "   lr: 0.05120922169075298\n"
     ]
    }
   ],
   "source": [
    "# 5. run optuna optimization\n",
    "study=optuna.create_study(direction='maximize')\n",
    "study.optimize(objective,n_trials=50)\n",
    "\n",
    "#6 print the best trial results\n",
    "print('Best trial :')\n",
    "trial=study.best_trial\n",
    "print(\" value : \",trial.value)\n",
    "print(\" Params: \")\n",
    "for key,value in trial.params.items():\n",
    "    print(f\"   {key}: {value}\")"
   ]
  },
  {
   "cell_type": "code",
   "execution_count": 439,
   "id": "79c750d8-f11f-441b-8d55-a793ef46366e",
   "metadata": {},
   "outputs": [
    {
     "name": "stdout",
     "output_type": "stream",
     "text": [
      "lr =0.05120922169075298\n",
      "epoch :-10==> train loss :- 0.0959 , test loss:- 0.3717 , AUC train score :- 0.6198 , AUC test score :- 0.6784\n",
      "epoch :-20==> train loss :- 0.0928 , test loss:- 0.3724 , AUC train score :- 0.6134 , AUC test score :- 0.7091\n",
      "epoch :-30==> train loss :- 0.0934 , test loss:- 0.3623 , AUC train score :- 0.6191 , AUC test score :- 0.7159\n",
      "EARLY STOPPING TRIGGERED AT EPOCH :- 31\n"
     ]
    },
    {
     "data": {
      "image/png": "[encoded data removed]",
      "text/plain": [
       "<Figure size 1000x600 with 1 Axes>"
      ]
     },
     "metadata": {},
     "output_type": "display_data"
    }
   ],
   "source": [
    "dropout_rate=trial.params['dropout_rate']\n",
    "num_layers=trial.params['num_layers']\n",
    "num_nodes=trial.params['num_nodes']\n",
    "lr=trial.params['lr']\n",
    "print(f'lr ={lr}')\n",
    "num_features=X_train.shape[1]\n",
    "num_classes=1\n",
    "\n",
    "model= BinaryClassifierDropoutOptuna(num_features=num_features, num_classes=num_classes, \n",
    "                                 dropout_rate=dropout_rate, num_layers=num_layers, num_nodes=num_nodes)\n",
    "\n",
    "# Initialize Adam optimizer\n",
    "optimizer = optim.Adam(model.parameters(), lr=lr)\n",
    "# Train using optimizer_sgd\n",
    "train_and_evaluate_model(model, optimizer, epochs=500, print_every=10,patience=10)"
   ]
  },
  {
   "cell_type": "code",
   "execution_count": null,
   "id": "c8e06017-6c18-49fa-90f0-303038206298",
   "metadata": {},
   "outputs": [],
   "source": [
    "check out my blog on this project here :- "
   ]
  }
 ],
 "metadata": {
  "kernelspec": {
   "display_name": "Python 3.10",
   "language": "python",
   "name": "python3.10"
  },
  "language_info": {
   "codemirror_mode": {
    "name": "ipython",
    "version": 3
   },
   "file_extension": ".py",
   "mimetype": "text/x-python",
   "name": "python",
   "nbconvert_exporter": "python",
   "pygments_lexer": "ipython3",
   "version": "3.10.0"
  }
 },
 "nbformat": 4,
 "nbformat_minor": 5
}
